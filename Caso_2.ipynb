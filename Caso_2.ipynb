{
 "cells": [
  {
   "cell_type": "markdown",
   "metadata": {
    "application/vnd.databricks.v1+cell": {
     "cellMetadata": {},
     "inputWidgets": {},
     "nuid": "7bc88472-0819-44bb-a870-05c265cca4c5",
     "showTitle": false,
     "tableResultSettingsMap": {},
     "title": ""
    }
   },
   "source": [
    "# Encontrando insights de la UEFA Champions League"
   ]
  },
  {
   "cell_type": "markdown",
   "metadata": {
    "application/vnd.databricks.v1+cell": {
     "cellMetadata": {},
     "inputWidgets": {},
     "nuid": "dec9c196-3f29-444f-a2f7-13e3827b29ef",
     "showTitle": false,
     "tableResultSettingsMap": {},
     "title": ""
    }
   },
   "source": [
    "La Liga de Campeones de la UEFA, a menudo llamada Liga de Campeones, es una competencia anual de fútbol por excelencia que cautiva a los fanáticos de todo el mundo. Establecida en 1955 como la Copa de Clubes Campeones de Europa, evolucionó a la Liga de Campeones de la UEFA en 1992, ampliando su atractivo. El formato moderno cuenta con 32 equipos de clubes de primer nivel seleccionados en función de su desempeño en la liga nacional, lo que aumenta la intriga.  \n",
    "\n",
    "Este evento electrizante trasciende los deportes y se convierte en una celebración de la unidad, la cultura y el orgullo nacional. Los fanáticos, vestidos con los colores de sus países, crean una atmósfera eléctrica, lo que hace que el torneo sea tanto sobre los espectadores como sobre los jugadores. Financieramente, la Liga de Campeones es un salvavidas para los clubes, ya que aumenta los ingresos y ofrece oportunidades transformadoras. Sin embargo, genera debates sobre las disparidades de riqueza en el fútbol europeo.  \n",
    "\n",
    "La Liga de Campeones es sinónimo de rivalidades históricas, triunfos de los desvalidos y brillantez individual. Para los jugadores, representa la cima de su carrera, mientras que para los fanáticos, es un fenómeno cultural. El himno y los rituales icónicos enriquecen la experiencia futbolística. En 200 palabras, la UEFA Champions League es el epítome de la excelencia del fútbol europeo, que ofrece momentos inolvidables, recompensas económicas y un impacto cultural único, con 32 clubes de primer nivel que se suman a su atractivo."
   ]
  },
  {
   "cell_type": "markdown",
   "metadata": {
    "application/vnd.databricks.v1+cell": {
     "cellMetadata": {},
     "inputWidgets": {},
     "nuid": "3ff8fe53-6686-4ae2-8c5b-662e85535ff5",
     "showTitle": false,
     "tableResultSettingsMap": {},
     "title": ""
    }
   },
   "source": [
    "**Nombres de las tablas o ficheros a utilizar**:  \n",
    "[uefa_2020.csv](https://tajamar365.sharepoint.com/:x:/s/3405-MasterIA2024-2025/EQuW8d16tZJKpYZN6jR480sBgc1IYypAw9hGHKQARS560g?e=7TybBU)  \n",
    "[uefa_2021.csv](https://tajamar365.sharepoint.com/:x:/s/3405-MasterIA2024-2025/ESG8YBrjD3tBky3aGT0MwIABNt_PQxFVVYVlWMnZYUmV8g?e=VrYHtX)  \n",
    "[uefa_2022.csv](https://tajamar365.sharepoint.com/:x:/s/3405-MasterIA2024-2025/Ecf8O8U8sxJLoW9Bkd2ZVzgBb_gZc35mNcprnR9FMlzliQ?e=Vn3a6v)  \n",
    "\n",
    "- Todas las tablas tienen las mismas columnas y data types"
   ]
  },
  {
   "cell_type": "markdown",
   "metadata": {
    "application/vnd.databricks.v1+cell": {
     "cellMetadata": {},
     "inputWidgets": {},
     "nuid": "910b06ac-21ef-4f0c-bb95-9611f90d7635",
     "showTitle": false,
     "tableResultSettingsMap": {},
     "title": ""
    }
   },
   "source": [
    "| Column | Definition | Data type |\n",
    "|--------|------------|-----------|\n",
    "| `STAGE`| Stage of the March | `VARCHAR(50)` |\n",
    "| `DATE` | When the match occurred. | `DATE` |\n",
    "| `PENS` | Did the match end with penalty | `VARCHAR(50)` |\n",
    "| `PENS_HOME_SCORE` | In case of penalty, score by home team | `VARCHAR(50)` |\n",
    "| `PENS_AWAY_SCORE` | In case of penalty, score by away team | `VARCHAR(50)` |\n",
    "| `TEAM_NAME_HOME` | Team home name | `VARCHAR(50)` |\n",
    "| `TEAM_NAME_AWAY`| Team away  name | `VARCHAR(50)` |\n",
    "| `TEAM_HOME_SCORE` | Team home score | `NUMBER` |\n",
    "| `TEAM_AWAY_SCORE` | Team away score | `NUMBER` |\n",
    "| `POSSESSION_HOME` | Ball possession for the home team | `FLOAT` |\n",
    "| `POSSESSION_AWAY` | Ball possession for the away team | `FLOAT` |\n",
    "| `TOTAL_SHOTS_HOME` | Number of shots by the home team | `NUMBER` |\n",
    "| `TOTAL_SHOTS_AWAY` | Number of shots by the away team | `NUMBER`\n",
    "| `SHOTS_ON_TARGET_HOME` | Total shot for home team | `FLOAT` |\n",
    "| `SHOTS_ON_TARGET_AWAY` | Total shot for away team | `FLOAT` |\n",
    "| `DUELS_WON_HOME` | duel win possession of ball - for home team | `NUMBER` |\n",
    "| `DUELS_WON_AWAY` | duel win possession of ball - for away team | `NUMBER` \n",
    "| `PREDICTION_TEAM_HOME_WIN` | Probability of home team to win | `FLOAT` |\n",
    "| `PREDICTION_DRAW` | Probability of draw | `FLOAT` |\n",
    "| `PREDICTION_TEAM_AWAY_WIN` | Probability of away team to win | `FLOAT` |\n",
    "| `LOCATION` | Stadium where the match was held | `VARCHAR(50)` |"
   ]
  },
  {
   "cell_type": "markdown",
   "metadata": {
    "application/vnd.databricks.v1+cell": {
     "cellMetadata": {},
     "inputWidgets": {},
     "nuid": "b6ed3067-8a31-45a7-9120-766336560fef",
     "showTitle": false,
     "tableResultSettingsMap": {},
     "title": ""
    }
   },
   "source": [
    "### Requerimientos:  \n",
    "-Puedes utilizar SQL o PySpark"
   ]
  },
  {
   "cell_type": "code",
   "execution_count": 0,
   "metadata": {
    "application/vnd.databricks.v1+cell": {
     "cellMetadata": {
      "byteLimit": 2048000,
      "rowLimit": 10000
     },
     "inputWidgets": {},
     "nuid": "f12f49b0-dc42-4a4f-b7ed-0e9c680dc26d",
     "showTitle": false,
     "tableResultSettingsMap": {},
     "title": ""
    }
   },
   "outputs": [
    {
     "output_type": "stream",
     "name": "stdout",
     "output_type": "stream",
     "text": [
      "+--------------------+------------+-----+---------------+---------------+-----------------+-----------------+---------------+---------------+---------------+---------------+----------------+----------------+--------------------+--------------------+--------------+--------------+------------------------+---------------+------------------------+--------------------+\n|               STAGE|        DATE| PENS|PENS_HOME_SCORE|PENS_AWAY_SCORE|   TEAM_NAME_HOME|   TEAM_NAME_AWAY|TEAM_HOME_SCORE|TEAM_AWAY_SCORE|POSSESSION_HOME|POSSESSION_AWAY|TOTAL_SHOTS_HOME|TOTAL_SHOTS_AWAY|SHOTS_ON_TARGET_HOME|SHOTS_ON_TARGET_AWAY|DUELS_WON_HOME|DUELS_WON_AWAY|PREDICTION_TEAM_HOME_WIN|PREDICTION_DRAW|PREDICTION_TEAM_AWAY_WIN|            LOCATION|\n+--------------------+------------+-----+---------------+---------------+-----------------+-----------------+---------------+---------------+---------------+---------------+----------------+----------------+--------------------+--------------------+--------------+--------------+------------------------+---------------+------------------------+--------------------+\n|              Final | 29-05-2021 |FALSE|          FALSE|          FALSE| Manchester City |         Chelsea |              0|              1|            61%|            39%|               7|               8|                   1|                   2|           50%|           50%|                     55%|             3%|                     42%|  Estádio Do Dragão |\n| Semi-finals seco...| 05-05-2021 |FALSE|          FALSE|          FALSE|         Chelsea |     Real Madrid |              2|              0|            32%|            68%|              15|               7|                   5|                   5|           52%|           49%|                     43%|             3%|                     54%|    Stamford Bridge |\n| Semi-finals seco...| 04-05-2021 |FALSE|          FALSE|          FALSE| Manchester City |             PSG |              2|              0|            44%|            56%|              12|              14|                   5|                   0|           53%|           47%|                     44%|             3%|                     53%|     Etihad Stadium |\n| Semi-finals firs...| 28-04-2021 |FALSE|          FALSE|          FALSE|             PSG | Manchester City |              1|              2|            40%|            60%|              10|              11|                   4|                   6|           47%|           53%|                     65%|             4%|                     31%|   Parc des Princes |\n| Semi-finals firs...| 27-04-2021 |FALSE|          FALSE|          FALSE|     Real Madrid |         Chelsea |              1|              1|            51%|            49%|               9|              11|                   1|                   5|           49%|           52%|                     61%|             4%|                     35%| Alfredo Di Stéfano |\n+--------------------+------------+-----+---------------+---------------+-----------------+-----------------+---------------+---------------+---------------+---------------+----------------+----------------+--------------------+--------------------+--------------+--------------+------------------------+---------------+------------------------+--------------------+\nonly showing top 5 rows\n\n+--------------------+--------+-----+---------------+---------------+--------------+--------------+---------------+---------------+---------------+---------------+----------------+----------------+--------------------+--------------------+--------------+--------------+------------------------+---------------+------------------------+-----------------+\n|               STAGE|    DATE| PENS|PENS_HOME_SCORE|PENS_AWAY_SCORE|TEAM_NAME_HOME|TEAM_NAME_AWAY|TEAM_HOME_SCORE|TEAM_AWAY_SCORE|POSSESSION_HOME|POSSESSION_AWAY|TOTAL_SHOTS_HOME|TOTAL_SHOTS_AWAY|SHOTS_ON_TARGET_HOME|SHOTS_ON_TARGET_AWAY|DUELS_WON_HOME|DUELS_WON_AWAY|PREDICTION_TEAM_HOME_WIN|PREDICTION_DRAW|PREDICTION_TEAM_AWAY_WIN|         LOCATION|\n+--------------------+--------+-----+---------------+---------------+--------------+--------------+---------------+---------------+---------------+---------------+----------------+----------------+--------------------+--------------------+--------------+--------------+------------------------+---------------+------------------------+-----------------+\n|              Final |29-05-22|FALSE|          FALSE|          FALSE|     Liverpool|   Real Madrid|              0|              1|            50%|            50%|              23|               3|                  15|                   2|           37%|           63%|                     47%|              2|                     53%|          Anfield|\n| Semi-finals seco...|05-05-22|FALSE|          FALSE|          FALSE|   Real Madrid|      Man City|              3|              1|            44%|            56%|              14|              15|                   5|                  10|           47%|           53%|                     49%|             10|                     51%|Santiago Bernabeu|\n| Semi-finals seco...|04-05-22|FALSE|          FALSE|          FALSE|    Villarreal|     Liverpool|              2|              3|            44%|            56%|               6|              15|                   2|                   5|           49%|           51%|                     49%|              4|                     51%|      El Madrigal|\n| Semi-finals firs...|28-04-22|FALSE|          FALSE|          FALSE|     Liverpool|    Villarreal|              2|              0|            74%|            26%|              19|               1|                   5|                   0|           41%|           59%|                     50%|              4|                     50%|          Anfield|\n| Semi-finals firs...|27-04-22|FALSE|          FALSE|          FALSE|      Man City|   Real Madrid|              4|              3|            60%|            40%|              16|              11|                   6|                   5|           46%|           54%|                     48%|              5|                     52%|           Etihad|\n+--------------------+--------+-----+---------------+---------------+--------------+--------------+---------------+---------------+---------------+---------------+----------------+----------------+--------------------+--------------------+--------------+--------------+------------------------+---------------+------------------------+-----------------+\nonly showing top 5 rows\n\n+--------------------+--------+-----+---------------+---------------+-----------------+----------------+---------------+---------------+---------------+---------------+----------------+----------------+--------------------+--------------------+--------------+--------------+------------------------+---------------+------------------------+-----------------+\n|               STAGE|    DATE| PENS|PENS_HOME_SCORE|PENS_AWAY_SCORE|   TEAM_NAME_HOME|  TEAM_NAME_AWAY|TEAM_HOME_SCORE|TEAM_AWAY_SCORE|POSSESSION_HOME|POSSESSION_AWAY|TOTAL_SHOTS_HOME|TOTAL_SHOTS_AWAY|SHOTS_ON_TARGET_HOME|SHOTS_ON_TARGET_AWAY|DUELS_WON_HOME|DUELS_WON_AWAY|PREDICTION_TEAM_HOME_WIN|PREDICTION_DRAW|PREDICTION_TEAM_AWAY_WIN|         LOCATION|\n+--------------------+--------+-----+---------------+---------------+-----------------+----------------+---------------+---------------+---------------+---------------+----------------+----------------+--------------------+--------------------+--------------+--------------+------------------------+---------------+------------------------+-----------------+\n| Group stage: Mat...|6-9-2022|FALSE|          FALSE|          FALSE|    Dinamo Zagreb|         Chelsea|              1|              0|            31%|            69%|               6|              15|                   3|                   3|           44%|           56%|                     49%|             10|                     51%|         Maksimir|\n| Group stage: Mat...|6-9-2022|FALSE|          FALSE|          FALSE|         Salzburg|        AC Milan|              1|              1|            34%|            66%|              16|              14|                   4|                   3|           38%|           62%|                     41%|              9|                     59%|   Red Bull Arena|\n| Group stage: Mat...|6-9-2022|FALSE|          FALSE|          FALSE|           Celtic|     Real Madrid|              0|              3|            35%|            65%|              10|              12|                   4|                   6|           46%|           54%|                     47%|              8|                     53%|      Celtic Park|\n| Group stage: Mat...|6-9-2022|FALSE|          FALSE|          FALSE|       RB Leipzig|Shakhtar Donetsk|              1|              4|            68%|            32%|              13|               5|                   2|                   4|           47%|           53%|                     49%|              8|                     51%|   Red Bull Arena|\n| Group stage: Mat...|6-9-2022|FALSE|          FALSE|          FALSE|Borussia Dortmund|       K�benhavn|              3|              0|            63%|            37%|              15|               7|                   4|                   2|           49%|           51%|                     45%|              6|                     55%|Signal Iduna Park|\n+--------------------+--------+-----+---------------+---------------+-----------------+----------------+---------------+---------------+---------------+---------------+----------------+----------------+--------------------+--------------------+--------------+--------------+------------------------+---------------+------------------------+-----------------+\nonly showing top 5 rows\n\n"
     ]
    }
   ],
   "source": [
    "# Cargar los archivos CSV en DataFrames de PySpark\n",
    "uefa2020 = spark.read.format(\"csv\").option(\"header\", \"true\").load(\"dbfs:/FileStore/shared_uploads/uefa_2020.csv\")\n",
    "uefa2021 = spark.read.format(\"csv\").option(\"header\", \"true\").load(\"dbfs:/FileStore/shared_uploads/uefa_2021.csv\")\n",
    "uefa2022 = spark.read.format(\"csv\").option(\"header\", \"true\").load(\"dbfs:/FileStore/shared_uploads/uefa_2022.csv\")\n",
    "\n",
    "# Mostrar las primeras filas de uefa2020 en PySpark\n",
    "uefa2020.show(5)\n",
    "uefa2021.show(5)\n",
    "uefa2022.show(5)\n"
   ]
  },
  {
   "cell_type": "markdown",
   "metadata": {
    "application/vnd.databricks.v1+cell": {
     "cellMetadata": {},
     "inputWidgets": {},
     "nuid": "96872dad-7ed6-4372-84e9-763aa2d6c83f",
     "showTitle": false,
     "tableResultSettingsMap": {},
     "title": ""
    }
   },
   "source": [
    "1. Encuentra los 3 equipos que anotaron más goles jugando en su estadio en la UEFA Champions League 2020-21. El resultado debe contener dos columnas: TEAM_NAME_HOME y TEAM_HOME_SCORE ordenadas en orden descendente de TEAM_HOME_SCORE. Guarda la consulta (o el notebook) como TEAM_HOME_WITH_MOST_GOALS."
   ]
  },
  {
   "cell_type": "code",
   "execution_count": 0,
   "metadata": {
    "application/vnd.databricks.v1+cell": {
     "cellMetadata": {
      "byteLimit": 2048000,
      "rowLimit": 10000
     },
     "inputWidgets": {},
     "nuid": "295f2f6a-d7da-4aa4-b23a-b12101776978",
     "showTitle": false,
     "tableResultSettingsMap": {},
     "title": ""
    }
   },
   "outputs": [
    {
     "output_type": "stream",
     "name": "stdout",
     "output_type": "stream",
     "text": [
      "+-----------------+----------------+\n|   TEAM_NAME_HOME|TOTAL_HOME_GOALS|\n+-----------------+----------------+\n| Manchester City |            15.0|\n|     Real Madrid |            14.0|\n|   Bayern Munich |            13.0|\n+-----------------+----------------+\n\n"
     ]
    }
   ],
   "source": [
    "from pyspark.sql import functions as funcion\n",
    "# Hacemos que sume el total de goles marcados por cada equipo y que solo muestre los 3 primeros\n",
    "team_home_with_most_goals = uefa2020.groupBy(\"TEAM_NAME_HOME\") \\\n",
    "    .agg(funcion.sum(\"TEAM_HOME_SCORE\").alias(\"TOTAL_HOME_GOALS\")) \\\n",
    "    .orderBy(funcion.desc(\"TOTAL_HOME_GOALS\")) \\\n",
    "    .limit(3)\n",
    "#hacemos que solo nos muestre las columnas del nombre del equipo y los goles marcados\n",
    "team_home_with_most_goals.select(\"TEAM_NAME_HOME\", \"TOTAL_HOME_GOALS\").show()\n",
    "#guardamos en TEAM_HOME_WITH_MOST_GOALS\n",
    "team_home_with_most_goals.createOrReplaceTempView(\"TEAM_HOME_WITH_MOST_GOALS\")\n"
   ]
  },
  {
   "cell_type": "markdown",
   "metadata": {
    "application/vnd.databricks.v1+cell": {
     "cellMetadata": {},
     "inputWidgets": {},
     "nuid": "b375e92e-5c96-4ee8-8c35-29b8e7ab887f",
     "showTitle": false,
     "tableResultSettingsMap": {},
     "title": ""
    }
   },
   "source": [
    "2. Encuentra el equipo con posesión mayoritaria la mayor cantidad de veces durante la UEFA Champions League 2021-22. El resultado debe incluir dos columnas: TEAM_NAME y GAME_COUNT, que es la cantidad de veces que el equipo tuvo posesión mayoritaria durante un partido de fútbol. Guarda esta consulta (o el notebook) como TEAM_WITH_MAJORITY_POSSESSION"
   ]
  },
  {
   "cell_type": "code",
   "execution_count": 0,
   "metadata": {
    "application/vnd.databricks.v1+cell": {
     "cellMetadata": {
      "byteLimit": 2048000,
      "rowLimit": 10000
     },
     "inputWidgets": {},
     "nuid": "c8639e0e-fd11-4227-b528-880974899457",
     "showTitle": false,
     "tableResultSettingsMap": {},
     "title": ""
    }
   },
   "outputs": [
    {
     "output_type": "stream",
     "name": "stdout",
     "output_type": "stream",
     "text": [
      "+--------------+----------+\n|TEAM_NAME_HOME|GAME_COUNT|\n+--------------+----------+\n|      Man City|         3|\n+--------------+----------+\n\n"
     ]
    }
   ],
   "source": [
    "#filtramos que equipos tienen mas posesiones en casa que fuera y cuantas veces\n",
    "team_with_majority_possession = uefa2021.filter(uefa2021[\"POSSESSION_HOME\"] > uefa2021[\"POSSESSION_AWAY\"])\n",
    "#Contamos las veces que aparece cada equipo para saber que equipo es el que mas posesiones tiene en cuantos partidos\n",
    "team_possession_count = team_with_majority_possession.groupBy(\"TEAM_NAME_HOME\") \\\n",
    "    .agg(funcion.count(\"TEAM_NAME_HOME\").alias(\"GAME_COUNT\")) \\\n",
    "    .orderBy(funcion.desc(\"GAME_COUNT\"))\\\n",
    "    .limit(1)\n",
    "# muestra solo el nombre del equipo y el numero de partidos con mayor posesion\n",
    "team_possession_count.select(\"TEAM_NAME_HOME\", \"GAME_COUNT\").show()\n",
    "#guardamos en TEAM_WITH_MAJORITY_POSSESSION\n",
    "team_possession_count.createOrReplaceTempView(\"TEAM_WITH_MAJORITY_POSSESSION\")\n"
   ]
  },
  {
   "cell_type": "markdown",
   "metadata": {
    "application/vnd.databricks.v1+cell": {
     "cellMetadata": {},
     "inputWidgets": {},
     "nuid": "7c960a38-f12d-4b88-aaad-b70de0c2323f",
     "showTitle": false,
     "tableResultSettingsMap": {},
     "title": ""
    }
   },
   "source": [
    "3. Encuentra la lista de equipos de cada fase del juego que ganaron el duelo en un partido pero terminaron perdiendo el juego en el Campeonato de la UEFA 2022-23. El resultado debe contener dos columnas: STAGE y TEAM_LOST. Guarda la consulta (o el notebook) como TEAM_WON_DUEL_LOST_GAME_STAGE_WISE."
   ]
  },
  {
   "cell_type": "code",
   "execution_count": 0,
   "metadata": {
    "application/vnd.databricks.v1+cell": {
     "cellMetadata": {
      "byteLimit": 2048000,
      "rowLimit": 10000
     },
     "inputWidgets": {},
     "nuid": "5b5a904a-58be-4e45-8a29-d16b3b8fa65f",
     "showTitle": false,
     "tableResultSettingsMap": {},
     "title": ""
    }
   },
   "outputs": [
    {
     "output_type": "stream",
     "name": "stdout",
     "output_type": "stream",
     "text": [
      "+-------------------------+-----------------+\n|STAGE                    |TEAM_LOST        |\n+-------------------------+-----------------+\n| Group stage: Matchday 1 |Chelsea          |\n| Group stage: Matchday 1 |K�benhavn        |\n| Group stage: Matchday 1 |Juventus         |\n| Group stage: Matchday 1 |Maccabi Haifa    |\n| Group stage: Matchday 1 |Rangers          |\n| Group stage: Matchday 1 |Liverpool        |\n| Group stage: Matchday 1 |Porto            |\n| Group stage: Matchday 1 |Bayer Leverkusen |\n| Group stage: Matchday 1 |Viktoria Plze?   |\n| Group stage: Matchday 1 |Marseille        |\n| Group stage: Matchday 2 |Ajax             |\n| Group stage: Matchday 2 |Atletico Madrid  |\n| Group stage: Matchday 2 |Barcelona        |\n| Group stage: Matchday 2 |Tottenham Hotspur|\n| Group stage: Matchday 2 |RB Leipzig       |\n| Group stage: Matchday 3 |Rangers          |\n| Group stage: Matchday 3 |Atletico Madrid  |\n| Group stage: Matchday 3 |Bayer Leverkusen |\n| Group stage: Matchday 3 |Viktoria Plze?   |\n| Group stage: Matchday 3 |Barcelona        |\n+-------------------------+-----------------+\nonly showing top 20 rows\n\n"
     ]
    }
   ],
   "source": [
    "#filtamos si el equipo de casa gana mas que el de fuera y si el equipo visitante marca mas goles que el local\n",
    "uefa2022_filtered_home = uefa2022.filter(\n",
    "    (uefa2022[\"DUELS_WON_HOME\"] > uefa2022[\"DUELS_WON_AWAY\"]) & (uefa2022[\"TEAM_HOME_SCORE\"] < uefa2022[\"TEAM_AWAY_SCORE\"])\n",
    ")\n",
    "# filtramos si el equipo de fuera gana mas que el de casa y si el equipo de casa marca mas goles que el visitante\n",
    "uefa2022_filtered_away = uefa2022.filter(\n",
    "    (uefa2022[\"DUELS_WON_AWAY\"] > uefa2022[\"DUELS_WON_HOME\"]) & (uefa2022[\"TEAM_AWAY_SCORE\"] < uefa2022[\"TEAM_HOME_SCORE\"])\n",
    ")\n",
    "# junta los dos resultados de los filtros de arriba\n",
    "teamslostgame = uefa2022_filtered_home.union(uefa2022_filtered_away)\n",
    "#hace una comprobacion entre goles de casa y goles visitante y les da el nombre de local y al otro el de equipo que ha perdido\n",
    "teamslostgameresult = teamslostgame.select(\n",
    "    \"STAGE\",\n",
    "    funcion.when(funcion.col(\"TEAM_HOME_SCORE\") < funcion.col(\"TEAM_AWAY_SCORE\"), funcion.col(\"TEAM_NAME_HOME\"))\n",
    "    .otherwise(funcion.col(\"TEAM_NAME_AWAY\")).alias(\"TEAM_LOST\")\n",
    ")\n",
    "#mostramos lo anterior\n",
    "teamslostgameresult.show(truncate=False)"
   ]
  }
 ],
 "metadata": {
  "application/vnd.databricks.v1+notebook": {
   "dashboards": [],
   "environmentMetadata": null,
   "language": "python",
   "notebookMetadata": {
    "pythonIndentUnit": 4
   },
   "notebookName": "Caso_2",
   "widgets": {}
  }
 },
 "nbformat": 4,
 "nbformat_minor": 0
}
