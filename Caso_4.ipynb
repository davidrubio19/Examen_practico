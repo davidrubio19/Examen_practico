{
 "cells": [
  {
   "cell_type": "markdown",
   "metadata": {
    "application/vnd.databricks.v1+cell": {
     "cellMetadata": {},
     "inputWidgets": {},
     "nuid": "6faa8f82-8459-4b9d-b8be-b985c9f761af",
     "showTitle": false,
     "tableResultSettingsMap": {},
     "title": ""
    }
   },
   "source": [
    "# Limpieza de datos con PySpark: Data Science Job Posting on Glassdoor"
   ]
  },
  {
   "cell_type": "markdown",
   "metadata": {
    "application/vnd.databricks.v1+cell": {
     "cellMetadata": {},
     "inputWidgets": {},
     "nuid": "ffad86de-2091-43f9-97e4-c94456fee761",
     "showTitle": false,
     "tableResultSettingsMap": {},
     "title": ""
    }
   },
   "source": [
    "Los [datos](https://tajamar365.sharepoint.com/:x:/s/3405-MasterIA2024-2025/ETYTQ0c-i6FLjM8rZ4iT1cgB6ipFAkainM-4V9M8DXsBiA?e=PeMtvh) fueron extraídos (scrapeados) del sitio web de Glassdoor y recoge los salarios de distintos puestos relacionados a Data."
   ]
  },
  {
   "cell_type": "markdown",
   "metadata": {
    "application/vnd.databricks.v1+cell": {
     "cellMetadata": {},
     "inputWidgets": {},
     "nuid": "dbd64de3-16db-4ce1-89ee-026c842262a1",
     "showTitle": false,
     "tableResultSettingsMap": {},
     "title": ""
    }
   },
   "source": [
    "### Resolver los siguientes requerimientos, para cada operación/moficación imprima como van quedadndo los cambios."
   ]
  },
  {
   "cell_type": "markdown",
   "metadata": {
    "application/vnd.databricks.v1+cell": {
     "cellMetadata": {},
     "inputWidgets": {},
     "nuid": "22e55e35-5fe8-4a9a-a14a-d8d15dbe45b0",
     "showTitle": false,
     "tableResultSettingsMap": {},
     "title": ""
    }
   },
   "source": [
    "1. Cargar los datos y mostrar el esquema o la informacion de las columnas y el tip de dato de cada columna"
   ]
  },
  {
   "cell_type": "code",
   "execution_count": 0,
   "metadata": {
    "application/vnd.databricks.v1+cell": {
     "cellMetadata": {
      "byteLimit": 2048000,
      "rowLimit": 10000
     },
     "inputWidgets": {},
     "nuid": "ff4c2b07-b79d-4c60-8c37-6ab4b2e37e24",
     "showTitle": false,
     "tableResultSettingsMap": {},
     "title": ""
    }
   },
   "outputs": [
    {
     "output_type": "stream",
     "name": "stdout",
     "output_type": "stream",
     "text": [
      "root\n |-- index: string (nullable = true)\n |-- Job Title: string (nullable = true)\n |-- Salary Estimate: string (nullable = true)\n |-- Job Description: string (nullable = true)\n |-- Rating: string (nullable = true)\n |-- Company Name: string (nullable = true)\n |-- Location: string (nullable = true)\n |-- Headquarters: string (nullable = true)\n |-- Size: string (nullable = true)\n |-- Founded: string (nullable = true)\n |-- Type of ownership: string (nullable = true)\n |-- Industry: string (nullable = true)\n |-- Sector: string (nullable = true)\n |-- Revenue: string (nullable = true)\n |-- Competitors: string (nullable = true)\n\n+-----+--------------------+--------------------+--------------------+------+--------------------+-----------------+--------------------+--------------------+-------+--------------------+--------------------+--------------------+--------------------+--------------------+\n|index|           Job Title|     Salary Estimate|     Job Description|Rating|        Company Name|         Location|        Headquarters|                Size|Founded|   Type of ownership|            Industry|              Sector|             Revenue|         Competitors|\n+-----+--------------------+--------------------+--------------------+------+--------------------+-----------------+--------------------+--------------------+-------+--------------------+--------------------+--------------------+--------------------+--------------------+\n|    0|   Sr Data Scientist|$137K-$171K (Glas...|Description\\n\\nTh...|    31|    Healthfirst\\n3.1|     New York, NY|        New York, NY|1001 to 5000 empl...|   1993|Nonprofit Organiz...|  Insurance Carriers|           Insurance|Unknown / Non-App...|EmblemHealth, Uni...|\n|    1|      Data Scientist|$137K-$171K (Glas...|Secure our Nation...|    42|        ManTech\\n4.2|    Chantilly, VA|         Herndon, VA|5001 to 10000 emp...|   1968|    Company - Public|Research & Develo...|   Business Services|$1 to $2 billion ...|                  -1|\n|    2|      Data Scientist|$137K-$171K (Glas...|Overview\\n\\n\\nAna...|    38| Analysis Group\\n3.8|       Boston, MA|          Boston, MA|1001 to 5000 empl...|   1981|Private Practice ...|          Consulting|   Business Services|$100 to $500 mill...|                  -1|\n|    3|      Data Scientist|$137K-$171K (Glas...|JOB DESCRIPTION:\\...|    35|        INFICON\\n3.5|       Newton, MA|Bad Ragaz, Switze...|501 to 1000 emplo...|   2000|    Company - Public|Electrical & Elec...|       Manufacturing|$100 to $500 mill...|MKS Instruments, ...|\n|    4|      Data Scientist|$137K-$171K (Glas...|Data Scientist\\nA...|    29|Affinity Solution...|     New York, NY|        New York, NY| 51 to 200 employees|   1998|   Company - Private|Advertising & Mar...|   Business Services|Unknown / Non-App...|Commerce Signals,...|\n|    5|      Data Scientist|$137K-$171K (Glas...|About Us:\\n\\nHead...|    42|    HG Insights\\n4.2|Santa Barbara, CA|   Santa Barbara, CA| 51 to 200 employees|   2010|   Company - Private|Computer Hardware...|Information Techn...|Unknown / Non-App...|                  -1|\n|    6|Data Scientist / ...|$137K-$171K (Glas...|Posting Title\\nDa...|    39|       Novartis\\n3.9|    Cambridge, MA|  Basel, Switzerland|    10000+ employees|   1996|    Company - Public|Biotech & Pharmac...|Biotech & Pharmac...|  $10+ billion (USD)|                  -1|\n|    7|      Data Scientist|$137K-$171K (Glas...|Introduction\\n\\nH...|    35|         iRobot\\n3.5|      Bedford, MA|         Bedford, MA|1001 to 5000 empl...|   1990|    Company - Public|Consumer Electron...|              Retail|$1 to $2 billion ...|                  -1|\n|    8|Staff Data Scient...|$137K-$171K (Glas...|Intuit is seeking...|    44|  Intuit - Data\\n4.4|    San Diego, CA|   Mountain View, CA|5001 to 10000 emp...|   1983|    Company - Public|Computer Hardware...|Information Techn...|$2 to $5 billion ...|Square, PayPal, H...|\n|    9|      Data Scientist|$137K-$171K (Glas...|Ready to write th...|    36|XSELL Technologie...|      Chicago, IL|         Chicago, IL| 51 to 200 employees|   2014|   Company - Private|Enterprise Softwa...|Information Techn...|Unknown / Non-App...|                  -1|\n|   10|      Data Scientist|$137K-$171K (Glas...|Join our team ded...|    45|        Novetta\\n4.5|      Herndon, VA|         Mc Lean, VA|501 to 1000 emplo...|   2012|   Company - Private|Enterprise Softwa...|Information Techn...|$100 to $500 mill...|Leidos, CACI Inte...|\n|   11|      Data Scientist|$137K-$171K (Glas...|About Us\\n\\n\\nInt...|    47|       1904labs\\n4.7|  Saint Louis, MO|     Saint Louis, MO| 51 to 200 employees|   2016|   Company - Private|         IT Services|Information Techn...|Unknown / Non-App...|Slalom, Daugherty...|\n|   12|Data Scientist - ...|$137K-$171K (Glas...|*Organization and...|    37|           PNNL\\n3.7|     Richland, WA|        Richland, WA|1001 to 5000 empl...|   1965|          Government|              Energy|Oil, Gas, Energy ...|$500 million to $...|Oak Ridge Nationa...|\n|   13|        Data Modeler|$137K-$171K (Glas...|POSITION PURPOSE:...|    31|Old World Industr...|   Northbrook, IL|      Northbrook, IL|201 to 500 employees|   1973|   Company - Private|Chemical Manufact...|       Manufacturing|$1 to $2 billion ...|                  -1|\n|   14|      Data Scientist|$137K-$171K (Glas...|Position Descript...|    34|Mathematica Polic...|   Washington, DC|       Princeton, NJ|1001 to 5000 empl...|   1986|   Company - Private|          Consulting|   Business Services|$100 to $500 mill...|                  -1|\n|   15|Experienced Data ...|$137K-$171K (Glas...|*******Please App...|    44|Guzman & Griffin ...|   Washington, DC|    Mays Landing, NJ|   1 to 50 employees|   1997|   Company - Private|    Federal Agencies|          Government|Unknown / Non-App...|                  -1|\n|   16|Data Scientist - ...|$137K-$171K (Glas...|We are an ambitio...|    41|Upside Business T...|           Remote|      Washington, DC| 51 to 200 employees|   2015|   Company - Private|            Internet|Information Techn...|Unknown / Non-App...|                  -1|\n|   17|      Data Scientist|$137K-$171K (Glas...|Job Success Profi...|    35|        Buckman\\n3.5|      Memphis, TN|         Memphis, TN|1001 to 5000 empl...|   1945|   Company - Private|Chemical Manufact...|       Manufacturing|$500 million to $...|                  -1|\n|   18|     Data Analyst II|$137K-$171K (Glas...|The Data Analyst ...|    42|Insight Enterpris...|        Plano, TX|           Tempe, AZ|5001 to 10000 emp...|   1988|    Company - Public|Enterprise Softwa...|Information Techn...|$5 to $10 billion...|CDW, PCM, SHI Int...|\n|   19|Medical Lab Scien...|$137K-$171K (Glas...|Responsibilities\\...|    35|   Tower Health\\n3.5|   West Grove, PA|         Reading, PA|5001 to 10000 emp...|   2017|Nonprofit Organiz...|Health Care Servi...|         Health Care|Unknown / Non-App...|                  -1|\n+-----+--------------------+--------------------+--------------------+------+--------------------+-----------------+--------------------+--------------------+-------+--------------------+--------------------+--------------------+--------------------+--------------------+\nonly showing top 20 rows\n\n"
     ]
    }
   ],
   "source": [
    "\n",
    "df = spark.read.option(\"header\", \"true\") \\\n",
    "               .option(\"delimiter\", \";\") \\\n",
    "               .option(\"multiline\", \"true\") \\\n",
    "               .option(\"quote\", \"\\\"\") \\\n",
    "               .option(\"escape\", \"\\\"\") \\\n",
    "               .csv(\"dbfs:/FileStore/shared_uploads/david.rubiochavida@tajamar365.com/ds_jobs.csv\")\n",
    "\n",
    "# Mostrar el esquema\n",
    "df.printSchema()\n",
    "#mostrar algunos datos para\n",
    "df.show()"
   ]
  },
  {
   "cell_type": "markdown",
   "metadata": {
    "application/vnd.databricks.v1+cell": {
     "cellMetadata": {},
     "inputWidgets": {},
     "nuid": "5a4b636b-5e44-4afa-9d44-0666b991cec1",
     "showTitle": false,
     "tableResultSettingsMap": {},
     "title": ""
    }
   },
   "source": [
    "2. Eliminar duplicados"
   ]
  },
  {
   "cell_type": "code",
   "execution_count": 0,
   "metadata": {
    "application/vnd.databricks.v1+cell": {
     "cellMetadata": {
      "byteLimit": 2048000,
      "rowLimit": 10000
     },
     "inputWidgets": {},
     "nuid": "21b376ad-28f1-4d72-bc1a-f30fc55132aa",
     "showTitle": false,
     "tableResultSettingsMap": {},
     "title": ""
    }
   },
   "outputs": [
    {
     "output_type": "stream",
     "name": "stdout",
     "output_type": "stream",
     "text": [
      "+-----+--------------------+--------------------+--------------------+------+--------------------+-----------------+--------------------+--------------------+-------+--------------------+--------------------+--------------------+--------------------+--------------------+\n|index|           Job Title|     Salary Estimate|     Job Description|Rating|        Company Name|         Location|        Headquarters|                Size|Founded|   Type of ownership|            Industry|              Sector|             Revenue|         Competitors|\n+-----+--------------------+--------------------+--------------------+------+--------------------+-----------------+--------------------+--------------------+-------+--------------------+--------------------+--------------------+--------------------+--------------------+\n|   19|Medical Lab Scien...|$137K-$171K (Glas...|Responsibilities\\...|    35|   Tower Health\\n3.5|   West Grove, PA|         Reading, PA|5001 to 10000 emp...|   2017|Nonprofit Organiz...|Health Care Servi...|         Health Care|Unknown / Non-App...|                  -1|\n|    9|      Data Scientist|$137K-$171K (Glas...|Ready to write th...|    36|XSELL Technologie...|      Chicago, IL|         Chicago, IL| 51 to 200 employees|   2014|   Company - Private|Enterprise Softwa...|Information Techn...|Unknown / Non-App...|                  -1|\n|   17|      Data Scientist|$137K-$171K (Glas...|Job Success Profi...|    35|        Buckman\\n3.5|      Memphis, TN|         Memphis, TN|1001 to 5000 empl...|   1945|   Company - Private|Chemical Manufact...|       Manufacturing|$500 million to $...|                  -1|\n|   12|Data Scientist - ...|$137K-$171K (Glas...|*Organization and...|    37|           PNNL\\n3.7|     Richland, WA|        Richland, WA|1001 to 5000 empl...|   1965|          Government|              Energy|Oil, Gas, Energy ...|$500 million to $...|Oak Ridge Nationa...|\n|    3|      Data Scientist|$137K-$171K (Glas...|JOB DESCRIPTION:\\...|    35|        INFICON\\n3.5|       Newton, MA|Bad Ragaz, Switze...|501 to 1000 emplo...|   2000|    Company - Public|Electrical & Elec...|       Manufacturing|$100 to $500 mill...|MKS Instruments, ...|\n|    0|   Sr Data Scientist|$137K-$171K (Glas...|Description\\n\\nTh...|    31|    Healthfirst\\n3.1|     New York, NY|        New York, NY|1001 to 5000 empl...|   1993|Nonprofit Organiz...|  Insurance Carriers|           Insurance|Unknown / Non-App...|EmblemHealth, Uni...|\n|   10|      Data Scientist|$137K-$171K (Glas...|Join our team ded...|    45|        Novetta\\n4.5|      Herndon, VA|         Mc Lean, VA|501 to 1000 emplo...|   2012|   Company - Private|Enterprise Softwa...|Information Techn...|$100 to $500 mill...|Leidos, CACI Inte...|\n|    4|      Data Scientist|$137K-$171K (Glas...|Data Scientist\\nA...|    29|Affinity Solution...|     New York, NY|        New York, NY| 51 to 200 employees|   1998|   Company - Private|Advertising & Mar...|   Business Services|Unknown / Non-App...|Commerce Signals,...|\n|    1|      Data Scientist|$137K-$171K (Glas...|Secure our Nation...|    42|        ManTech\\n4.2|    Chantilly, VA|         Herndon, VA|5001 to 10000 emp...|   1968|    Company - Public|Research & Develo...|   Business Services|$1 to $2 billion ...|                  -1|\n|    8|Staff Data Scient...|$137K-$171K (Glas...|Intuit is seeking...|    44|  Intuit - Data\\n4.4|    San Diego, CA|   Mountain View, CA|5001 to 10000 emp...|   1983|    Company - Public|Computer Hardware...|Information Techn...|$2 to $5 billion ...|Square, PayPal, H...|\n|   16|Data Scientist - ...|$137K-$171K (Glas...|We are an ambitio...|    41|Upside Business T...|           Remote|      Washington, DC| 51 to 200 employees|   2015|   Company - Private|            Internet|Information Techn...|Unknown / Non-App...|                  -1|\n|   18|     Data Analyst II|$137K-$171K (Glas...|The Data Analyst ...|    42|Insight Enterpris...|        Plano, TX|           Tempe, AZ|5001 to 10000 emp...|   1988|    Company - Public|Enterprise Softwa...|Information Techn...|$5 to $10 billion...|CDW, PCM, SHI Int...|\n|   15|Experienced Data ...|$137K-$171K (Glas...|*******Please App...|    44|Guzman & Griffin ...|   Washington, DC|    Mays Landing, NJ|   1 to 50 employees|   1997|   Company - Private|    Federal Agencies|          Government|Unknown / Non-App...|                  -1|\n|    7|      Data Scientist|$137K-$171K (Glas...|Introduction\\n\\nH...|    35|         iRobot\\n3.5|      Bedford, MA|         Bedford, MA|1001 to 5000 empl...|   1990|    Company - Public|Consumer Electron...|              Retail|$1 to $2 billion ...|                  -1|\n|   13|        Data Modeler|$137K-$171K (Glas...|POSITION PURPOSE:...|    31|Old World Industr...|   Northbrook, IL|      Northbrook, IL|201 to 500 employees|   1973|   Company - Private|Chemical Manufact...|       Manufacturing|$1 to $2 billion ...|                  -1|\n|   14|      Data Scientist|$137K-$171K (Glas...|Position Descript...|    34|Mathematica Polic...|   Washington, DC|       Princeton, NJ|1001 to 5000 empl...|   1986|   Company - Private|          Consulting|   Business Services|$100 to $500 mill...|                  -1|\n|    6|Data Scientist / ...|$137K-$171K (Glas...|Posting Title\\nDa...|    39|       Novartis\\n3.9|    Cambridge, MA|  Basel, Switzerland|    10000+ employees|   1996|    Company - Public|Biotech & Pharmac...|Biotech & Pharmac...|  $10+ billion (USD)|                  -1|\n|    5|      Data Scientist|$137K-$171K (Glas...|About Us:\\n\\nHead...|    42|    HG Insights\\n4.2|Santa Barbara, CA|   Santa Barbara, CA| 51 to 200 employees|   2010|   Company - Private|Computer Hardware...|Information Techn...|Unknown / Non-App...|                  -1|\n|   11|      Data Scientist|$137K-$171K (Glas...|About Us\\n\\n\\nInt...|    47|       1904labs\\n4.7|  Saint Louis, MO|     Saint Louis, MO| 51 to 200 employees|   2016|   Company - Private|         IT Services|Information Techn...|Unknown / Non-App...|Slalom, Daugherty...|\n|   20|      Data Scientist|$137K-$171K (Glas...|Role Description\\...|    32|     Triplebyte\\n3.2|     New York, NY|   San Francisco, CA| 51 to 200 employees|   2015|   Company - Private|Computer Hardware...|Information Techn...|Unknown / Non-App...|                  -1|\n+-----+--------------------+--------------------+--------------------+------+--------------------+-----------------+--------------------+--------------------+-------+--------------------+--------------------+--------------------+--------------------+--------------------+\nonly showing top 20 rows\n\n"
     ]
    }
   ],
   "source": [
    "# Eliminar filas duplicadas\n",
    "df_cleaned = df.dropDuplicates()\n",
    "\n",
    "# Mostrar los primeros registros después de eliminar duplicados\n",
    "df_cleaned.show()\n"
   ]
  },
  {
   "cell_type": "markdown",
   "metadata": {
    "application/vnd.databricks.v1+cell": {
     "cellMetadata": {},
     "inputWidgets": {},
     "nuid": "a9b97746-8b29-4550-9e1b-be2876c2a0a5",
     "showTitle": false,
     "tableResultSettingsMap": {},
     "title": ""
    }
   },
   "source": [
    "3. Decidir que hacer con los datos faltantes "
   ]
  },
  {
   "cell_type": "code",
   "execution_count": 0,
   "metadata": {
    "application/vnd.databricks.v1+cell": {
     "cellMetadata": {
      "byteLimit": 2048000,
      "rowLimit": 10000
     },
     "inputWidgets": {},
     "nuid": "9ea6dd11-8adc-4096-bce5-d390ad55925d",
     "showTitle": false,
     "tableResultSettingsMap": {},
     "title": ""
    }
   },
   "outputs": [
    {
     "output_type": "stream",
     "name": "stdout",
     "output_type": "stream",
     "text": [
      "Datos nulos por columna:\n+-----+---------+---------------+---------------+------+------------+--------+------------+----+-------+-----------------+--------+------+-------+-----------+\n|index|Job Title|Salary Estimate|Job Description|Rating|Company Name|Location|Headquarters|Size|Founded|Type of ownership|Industry|Sector|Revenue|Competitors|\n+-----+---------+---------------+---------------+------+------------+--------+------------+----+-------+-----------------+--------+------+-------+-----------+\n|    0|        0|              1|              1|     0|           0|       0|           0|   0|      0|                0|       0|     0|      0|          0|\n+-----+---------+---------------+---------------+------+------------+--------+------------+----+-------+-----------------+--------+------+-------+-----------+\n\n"
     ]
    }
   ],
   "source": [
    "from pyspark.sql import functions as F\n",
    "\n",
    "print(\"Datos nulos por columna:\")\n",
    "df.select([F.count(F.when(F.col(c).isNull(), c)).alias(c) for c in df.columns]).show()"
   ]
  },
  {
   "cell_type": "markdown",
   "metadata": {
    "application/vnd.databricks.v1+cell": {
     "cellMetadata": {},
     "inputWidgets": {},
     "nuid": "eaedda51-4a41-41cd-aba7-75f0e5a3c5f4",
     "showTitle": false,
     "tableResultSettingsMap": {},
     "title": ""
    }
   },
   "source": [
    "4. Decidir que hacer con los valores nulos"
   ]
  },
  {
   "cell_type": "code",
   "execution_count": 0,
   "metadata": {
    "application/vnd.databricks.v1+cell": {
     "cellMetadata": {
      "byteLimit": 2048000,
      "rowLimit": 10000
     },
     "inputWidgets": {},
     "nuid": "53a83e4a-cf48-49b4-b79c-4aec77bccb6e",
     "showTitle": false,
     "tableResultSettingsMap": {},
     "title": ""
    }
   },
   "outputs": [
    {
     "output_type": "stream",
     "name": "stdout",
     "output_type": "stream",
     "text": [
      "['index', 'Job Title', 'Salary Estimate', 'Job Description', 'Rating', 'Company Name', 'Location', 'Headquarters', 'Size', 'Founded', 'Type of ownership', 'Industry', 'Sector', 'Revenue', 'Competitors']\n+-----+-----------------+--------------------+--------------------+------+--------------------+-------------+--------------------+--------------------+-------+--------------------+--------------------+-----------------+--------------------+--------------------+\n|index|        Job Title|     Salary Estimate|     Job Description|Rating|        Company Name|     Location|        Headquarters|                Size|Founded|   Type of ownership|            Industry|           Sector|             Revenue|         Competitors|\n+-----+-----------------+--------------------+--------------------+------+--------------------+-------------+--------------------+--------------------+-------+--------------------+--------------------+-----------------+--------------------+--------------------+\n|    0|Sr Data Scientist|$137K-$171K (Glas...|Description\\n\\nTh...|    31|    Healthfirst\\n3.1| New York, NY|        New York, NY|1001 to 5000 empl...|   1993|Nonprofit Organiz...|  Insurance Carriers|        Insurance|Unknown / Non-App...|EmblemHealth, Uni...|\n|    1|   Data Scientist|$137K-$171K (Glas...|Secure our Nation...|    42|        ManTech\\n4.2|Chantilly, VA|         Herndon, VA|5001 to 10000 emp...|   1968|    Company - Public|Research & Develo...|Business Services|$1 to $2 billion ...|                  -1|\n|    2|   Data Scientist|$137K-$171K (Glas...|Overview\\n\\n\\nAna...|    38| Analysis Group\\n3.8|   Boston, MA|          Boston, MA|1001 to 5000 empl...|   1981|Private Practice ...|          Consulting|Business Services|$100 to $500 mill...|                  -1|\n|    3|   Data Scientist|$137K-$171K (Glas...|JOB DESCRIPTION:\\...|    35|        INFICON\\n3.5|   Newton, MA|Bad Ragaz, Switze...|501 to 1000 emplo...|   2000|    Company - Public|Electrical & Elec...|    Manufacturing|$100 to $500 mill...|MKS Instruments, ...|\n|    4|   Data Scientist|$137K-$171K (Glas...|Data Scientist\\nA...|    29|Affinity Solution...| New York, NY|        New York, NY| 51 to 200 employees|   1998|   Company - Private|Advertising & Mar...|Business Services|Unknown / Non-App...|Commerce Signals,...|\n+-----+-----------------+--------------------+--------------------+------+--------------------+-------------+--------------------+--------------------+-------+--------------------+--------------------+-----------------+--------------------+--------------------+\nonly showing top 5 rows\n\n"
     ]
    }
   ],
   "source": [
    "\n",
    "print(df.columns)\n",
    "# Reemplazarlos por un valor predeterminado\n",
    "df = df.na.fill({'Salary Estimate': 0, 'Job Title': 'Unknown'})  \n",
    "df.show(5)"
   ]
  },
  {
   "cell_type": "markdown",
   "metadata": {
    "application/vnd.databricks.v1+cell": {
     "cellMetadata": {},
     "inputWidgets": {},
     "nuid": "cbb3b1ca-24ac-4206-8906-3ecee5d6c5aa",
     "showTitle": false,
     "tableResultSettingsMap": {},
     "title": ""
    }
   },
   "source": [
    "5. ¿Cuántos registros tiene el csv?"
   ]
  },
  {
   "cell_type": "code",
   "execution_count": 0,
   "metadata": {
    "application/vnd.databricks.v1+cell": {
     "cellMetadata": {
      "byteLimit": 2048000,
      "rowLimit": 10000
     },
     "inputWidgets": {},
     "nuid": "7916674d-c107-484a-ab8b-a65a05321162",
     "showTitle": false,
     "tableResultSettingsMap": {},
     "title": ""
    }
   },
   "outputs": [
    {
     "output_type": "stream",
     "name": "stdout",
     "output_type": "stream",
     "text": [
      "Total de registros: 678\n"
     ]
    }
   ],
   "source": [
    "\n",
    "print(f\"Total de registros: {df.count()}\")"
   ]
  },
  {
   "cell_type": "markdown",
   "metadata": {
    "application/vnd.databricks.v1+cell": {
     "cellMetadata": {},
     "inputWidgets": {},
     "nuid": "1e9aac77-6fe5-4a54-b6ae-c152feee149f",
     "showTitle": false,
     "tableResultSettingsMap": {},
     "title": ""
    }
   },
   "source": [
    "6. Mostrar los valores únicos de `Job title` "
   ]
  },
  {
   "cell_type": "code",
   "execution_count": 0,
   "metadata": {
    "application/vnd.databricks.v1+cell": {
     "cellMetadata": {
      "byteLimit": 2048000,
      "rowLimit": 10000
     },
     "inputWidgets": {},
     "nuid": "e8c0855f-0671-4bc2-8420-c6e56d409055",
     "showTitle": false,
     "tableResultSettingsMap": {},
     "title": ""
    }
   },
   "outputs": [
    {
     "output_type": "stream",
     "name": "stdout",
     "output_type": "stream",
     "text": [
      "+--------------------+\n|           Job Title|\n+--------------------+\n|Business Intellig...|\n|        Data Modeler|\n|Senior Research S...|\n|   Sr Data Scientist|\n|Data Scientist/Ma...|\n|Data Scientist / ...|\n|Associate Data Sc...|\n|Medical Lab Scien...|\n|Human Factors Sci...|\n|Experienced Data ...|\n|     Data Analyst II|\n|      Data Scientist|\n|        Data Analyst|\n|Senior Analyst/Da...|\n|Data Scientist-Hu...|\n|Data Scientist - ...|\n|Data Scientist - ...|\n|Business Intellig...|\n|Staff Data Scient...|\n|Data Scientist - ...|\n+--------------------+\nonly showing top 20 rows\n\n"
     ]
    }
   ],
   "source": [
    "\n",
    "df.select(\"Job Title\").distinct().show()"
   ]
  },
  {
   "cell_type": "markdown",
   "metadata": {
    "application/vnd.databricks.v1+cell": {
     "cellMetadata": {},
     "inputWidgets": {},
     "nuid": "df06a700-7dd6-44c8-877c-52819ffb73a0",
     "showTitle": false,
     "tableResultSettingsMap": {},
     "title": ""
    }
   },
   "source": [
    "7. Remover la letra `K` de la columna `Salary Estimate` y multiplicar por 1000."
   ]
  },
  {
   "cell_type": "code",
   "execution_count": 0,
   "metadata": {
    "application/vnd.databricks.v1+cell": {
     "cellMetadata": {
      "byteLimit": 2048000,
      "rowLimit": 10000
     },
     "inputWidgets": {},
     "nuid": "ba636f71-8a18-4c8c-857b-b4a83a9beaab",
     "showTitle": false,
     "tableResultSettingsMap": {},
     "title": ""
    }
   },
   "outputs": [
    {
     "output_type": "display_data",
     "data": {
      "text/plain": [
       "\u001B[0;31m---------------------------------------------------------------------------\u001B[0m\n",
       "\u001B[0;31mNameError\u001B[0m                                 Traceback (most recent call last)\n",
       "File \u001B[0;32m<command-4335690602505773>:1\u001B[0m\n",
       "\u001B[0;32m----> 1\u001B[0m df \u001B[38;5;241m=\u001B[39m df\u001B[38;5;241m.\u001B[39mwithColumn(\u001B[38;5;124m\"\u001B[39m\u001B[38;5;124mSalary Estimate\u001B[39m\u001B[38;5;124m\"\u001B[39m, \u001B[43mregexp_replace\u001B[49m(col(\u001B[38;5;124m\"\u001B[39m\u001B[38;5;124mSalary Estimate\u001B[39m\u001B[38;5;124m\"\u001B[39m), \u001B[38;5;124m\"\u001B[39m\u001B[38;5;124mK\u001B[39m\u001B[38;5;124m\"\u001B[39m, \u001B[38;5;124m\"\u001B[39m\u001B[38;5;124m\"\u001B[39m)\u001B[38;5;241m.\u001B[39mcast(\u001B[38;5;124m\"\u001B[39m\u001B[38;5;124mdouble\u001B[39m\u001B[38;5;124m\"\u001B[39m) \u001B[38;5;241m*\u001B[39m \u001B[38;5;241m1000\u001B[39m)\n",
       "\n",
       "\u001B[0;31mNameError\u001B[0m: name 'regexp_replace' is not defined"
      ]
     },
     "metadata": {
      "application/vnd.databricks.v1+output": {
       "arguments": {},
       "data": "\u001B[0;31m---------------------------------------------------------------------------\u001B[0m\n\u001B[0;31mNameError\u001B[0m                                 Traceback (most recent call last)\nFile \u001B[0;32m<command-4335690602505773>:1\u001B[0m\n\u001B[0;32m----> 1\u001B[0m df \u001B[38;5;241m=\u001B[39m df\u001B[38;5;241m.\u001B[39mwithColumn(\u001B[38;5;124m\"\u001B[39m\u001B[38;5;124mSalary Estimate\u001B[39m\u001B[38;5;124m\"\u001B[39m, \u001B[43mregexp_replace\u001B[49m(col(\u001B[38;5;124m\"\u001B[39m\u001B[38;5;124mSalary Estimate\u001B[39m\u001B[38;5;124m\"\u001B[39m), \u001B[38;5;124m\"\u001B[39m\u001B[38;5;124mK\u001B[39m\u001B[38;5;124m\"\u001B[39m, \u001B[38;5;124m\"\u001B[39m\u001B[38;5;124m\"\u001B[39m)\u001B[38;5;241m.\u001B[39mcast(\u001B[38;5;124m\"\u001B[39m\u001B[38;5;124mdouble\u001B[39m\u001B[38;5;124m\"\u001B[39m) \u001B[38;5;241m*\u001B[39m \u001B[38;5;241m1000\u001B[39m)\n\n\u001B[0;31mNameError\u001B[0m: name 'regexp_replace' is not defined",
       "errorSummary": "<span class='ansi-red-fg'>NameError</span>: name 'regexp_replace' is not defined",
       "errorTraceType": "ansi",
       "metadata": {},
       "type": "ipynbError"
      }
     },
     "output_type": "display_data"
    }
   ],
   "source": [
    "df = df.withColumn(\"Salary Estimate\", regexp_replace(col(\"Salary Estimate\"), \"K\", \"\").cast(\"double\") * 1000)\n"
   ]
  },
  {
   "cell_type": "markdown",
   "metadata": {
    "application/vnd.databricks.v1+cell": {
     "cellMetadata": {},
     "inputWidgets": {},
     "nuid": "b0f2bbcd-5c78-4d10-9118-e105f611b4af",
     "showTitle": false,
     "tableResultSettingsMap": {},
     "title": ""
    }
   },
   "source": [
    "8. Mostrar los valores únicos del campo `Salary Estimate`"
   ]
  },
  {
   "cell_type": "code",
   "execution_count": 0,
   "metadata": {
    "application/vnd.databricks.v1+cell": {
     "cellMetadata": {
      "byteLimit": 2048000,
      "rowLimit": 10000
     },
     "inputWidgets": {},
     "nuid": "511654f0-ee5d-4893-9021-8ace5622543f",
     "showTitle": false,
     "tableResultSettingsMap": {},
     "title": ""
    }
   },
   "outputs": [
    {
     "output_type": "stream",
     "name": "stdout",
     "output_type": "stream",
     "text": [
      "+----------------------------+\n|Salary Estimate             |\n+----------------------------+\n|$79K-$131K (Glassdoor est.) |\n|$101K-$165K (Glassdoor est.)|\n|$137K-$171K (Glassdoor est.)|\n|$75K-$131K (Glassdoor est.) |\n|$112K-$116K (Glassdoor est.)|\n|$145K-$225K(Employer est.)  |\n|$56K-$97K (Glassdoor est.)  |\n|$124K-$198K (Glassdoor est.)|\n|$69K-$116K (Glassdoor est.) |\n|$90K-$124K (Glassdoor est.) |\n|$110K-$163K (Glassdoor est.)|\n|$91K-$150K (Glassdoor est.) |\n|$71K-$123K (Glassdoor est.) |\n|$79K-$106K (Glassdoor est.) |\n|$122K-$146K (Glassdoor est.)|\n|$141K-$225K (Glassdoor est.)|\n|$90K-$109K (Glassdoor est.) |\n|$99K-$132K (Glassdoor est.) |\n|$79K-$133K (Glassdoor est.) |\n|$31K-$56K (Glassdoor est.)  |\n+----------------------------+\nonly showing top 20 rows\n\n"
     ]
    }
   ],
   "source": [
    "df.select(\"Salary Estimate\").distinct().show(truncate=False)\n"
   ]
  },
  {
   "cell_type": "markdown",
   "metadata": {
    "application/vnd.databricks.v1+cell": {
     "cellMetadata": {},
     "inputWidgets": {},
     "nuid": "da5d10ab-fd9e-4d8b-bf7f-f8d25b9ed1af",
     "showTitle": false,
     "tableResultSettingsMap": {},
     "title": ""
    }
   },
   "source": [
    "9. Eliminar `(Glassdoor est.)` y `(Employer est.)` del campo `Salary Estimate`"
   ]
  },
  {
   "cell_type": "code",
   "execution_count": 0,
   "metadata": {
    "application/vnd.databricks.v1+cell": {
     "cellMetadata": {
      "byteLimit": 2048000,
      "rowLimit": 10000
     },
     "inputWidgets": {},
     "nuid": "438136e6-ed11-4c1d-b13b-a65132ab6866",
     "showTitle": false,
     "tableResultSettingsMap": {},
     "title": ""
    }
   },
   "outputs": [
    {
     "output_type": "display_data",
     "data": {
      "text/plain": [
       "\u001B[0;36m  File \u001B[0;32m<command-4335690602505775>:4\u001B[0;36m\u001B[0m\n",
       "\u001B[0;31m    df = df.withColumn(\"Salary Estimate\", regexp_replace(\"Salary Estimate\", r\"\u001B[0m\n",
       "\u001B[0m                                                                              ^\u001B[0m\n",
       "\u001B[0;31mSyntaxError\u001B[0m\u001B[0;31m:\u001B[0m EOL while scanning string literal\n"
      ]
     },
     "metadata": {
      "application/vnd.databricks.v1+output": {
       "arguments": {},
       "data": "\u001B[0;36m  File \u001B[0;32m<command-4335690602505775>:4\u001B[0;36m\u001B[0m\n\u001B[0;31m    df = df.withColumn(\"Salary Estimate\", regexp_replace(\"Salary Estimate\", r\"\u001B[0m\n\u001B[0m                                                                              ^\u001B[0m\n\u001B[0;31mSyntaxError\u001B[0m\u001B[0;31m:\u001B[0m EOL while scanning string literal\n",
       "errorSummary": "<span class='ansi-red-fg'>SyntaxError</span>: EOL while scanning string literal (<command-4335690602505775>, line 4)",
       "errorTraceType": "ansi",
       "metadata": {},
       "type": "ipynbError"
      }
     },
     "output_type": "display_data"
    }
   ],
   "source": [
    "from pyspark.sql.functions import regexp_replace\n",
    "\n",
    "# Eliminar los textos \"(Glassdoor est.)\" y \"(Employer est.)\" del campo \"Salary Estimate\"\n",
    "df = df.withColumn(\"Salary Estimate\", regexp_replace(\"Salary Estimate\", r\"\n",
    "|\n",
    "\", \"\").alias(\"Salary Estimate\"))\n",
    "\n",
    "# Mostrar valores únicos para verificar el cambio\n",
    "df.select(\"Salary Estimate\").distinct().show(truncate=False)"
   ]
  },
  {
   "cell_type": "markdown",
   "metadata": {
    "application/vnd.databricks.v1+cell": {
     "cellMetadata": {},
     "inputWidgets": {},
     "nuid": "80ff37c4-17a0-4eb4-b170-a131bd9b7844",
     "showTitle": false,
     "tableResultSettingsMap": {},
     "title": ""
    }
   },
   "source": [
    "10. Mostrar de mayor a menor los valores del campo `Salary Estimate`"
   ]
  },
  {
   "cell_type": "code",
   "execution_count": 0,
   "metadata": {
    "application/vnd.databricks.v1+cell": {
     "cellMetadata": {
      "byteLimit": 2048000,
      "rowLimit": 10000
     },
     "inputWidgets": {},
     "nuid": "0ca076b8-04a4-42d9-a60b-8f6cdd319b1d",
     "showTitle": false,
     "tableResultSettingsMap": {},
     "title": ""
    }
   },
   "outputs": [
    {
     "output_type": "stream",
     "name": "stdout",
     "output_type": "stream",
     "text": [
      "+----------------------------+\n|Salary Estimate             |\n+----------------------------+\n|$79K-$131K (Glassdoor est.) |\n|$101K-$165K (Glassdoor est.)|\n|$137K-$171K (Glassdoor est.)|\n|$75K-$131K (Glassdoor est.) |\n|$112K-$116K (Glassdoor est.)|\n|$145K-$225K(Employer est.)  |\n|$56K-$97K (Glassdoor est.)  |\n|$124K-$198K (Glassdoor est.)|\n|$69K-$116K (Glassdoor est.) |\n|$90K-$124K (Glassdoor est.) |\n|$110K-$163K (Glassdoor est.)|\n|$91K-$150K (Glassdoor est.) |\n|$71K-$123K (Glassdoor est.) |\n|$79K-$106K (Glassdoor est.) |\n|$122K-$146K (Glassdoor est.)|\n|$141K-$225K (Glassdoor est.)|\n|$90K-$109K (Glassdoor est.) |\n|$99K-$132K (Glassdoor est.) |\n|$79K-$133K (Glassdoor est.) |\n|$31K-$56K (Glassdoor est.)  |\n+----------------------------+\nonly showing top 20 rows\n\n"
     ]
    }
   ],
   "source": [
    "df.orderBy(\"Salary Estimate\", ascending=False).select(\"Salary Estimate\").distinct().show(truncate=False)\n"
   ]
  },
  {
   "cell_type": "markdown",
   "metadata": {
    "application/vnd.databricks.v1+cell": {
     "cellMetadata": {},
     "inputWidgets": {},
     "nuid": "c20074ca-ff4d-45ba-a548-369bd3bdadc1",
     "showTitle": false,
     "tableResultSettingsMap": {},
     "title": ""
    }
   },
   "source": [
    "11. De la columna `Job Description` quitar los saltos de linea `\\n` del texto"
   ]
  },
  {
   "cell_type": "code",
   "execution_count": 0,
   "metadata": {
    "application/vnd.databricks.v1+cell": {
     "cellMetadata": {
      "byteLimit": 2048000,
      "rowLimit": 10000
     },
     "inputWidgets": {},
     "nuid": "31db5bdf-0c12-40d8-821d-c12cce9beb4e",
     "showTitle": false,
     "tableResultSettingsMap": {},
     "title": ""
    }
   },
   "outputs": [
    {
     "output_type": "stream",
     "name": "stdout",
     "output_type": "stream",
     "text": [
      "+-------------------------------------------------------------------------------------------------------------------------------------------------------------------------------------------------------------------------------------------------------------------------------------------------------------------------------------------------------------------------------------------------------------------------------------------------------------------------------------------------------------------------------------------------------------------------------------------------------------------------------------------------------------------------------------------------------------------------------------------------------------------------------------------------------------------------------------------------------------------------------------------------------------------------------------------------------------------------------------------------------------------------------------------------------------------------------------------------------------------------------------------------------------------------------------------------------------------------------------------------------------------------------------------------------------------------------------------------------------------------------------------------------------------------------------------------------------------------------------------------------------------------------------------------------------------------------------------------------------------------------------------------------------------------------------------------------------------------------------------------------------------------------------------------------------------------------------------------------------------------------------------------------------------------------------------------------------------------------------------------------------------------------------------------------------------------------------------------------------------------------------------------------------------------------------------------------------------------------------------------------------------------------------------------------------------------------------------------------------------------------------------------------------------------------------------------------------------------------------------------------------------------------------------------------------------------------------------------------------------------------------------------------------------------------------------------------------------------------------------------------------------------------------------------------------------------------------------------------------------------------------------------------------------------------------------------------------------------------------------------------------------------------------------------------------------------------------------------------------------------------------------------------------------------------------------------------------------------------------------------------------------------------------------------------------------------------------------------------------------------------------------------------------------------------------------------------------------------------------------------------------------------------------------------------------------------------------------------------------------------------------------------------------------------------------------------------------------------------------------------------------------------------------------------------------------------------------------------------------------------------------------------------------------------------------------------------------------------------------------------------------------------------------------------------------------------------------------------------------------------------------------------------------------------------------------------------------------------------------------------------------------------------------------------------------------------------------------------------------------------------------------------------------------------------------------------------------------------------------------------------------------------------------------------------------------------------------------------------------------------------------------------------------------------------------------------------------------------------------------------------------------------------------------------------------------------------------------------------------------------------------------------------------------------------------------------------------------------------------------------------------------------------------------------------------------------------------------------------------------------------------------------------------------------------------------------------------------------------------------------------------------------------------------------------------------------------------------------------------------------------------------------------------------------------------------------------------------------------------------------------------------------------------------------------------------------------------------------------------------------------------------------------------------------------------------------------------------------------------------------------------------------------------------------------------------------------------------------------------------------------------------------------------------------------------------------------------------------------------------------------------------------------------------------------------------------------------------------------------------------------------------------------------------------------------------------------------------------------------------------------------------------------------------------------------------------------------------------------------------------------------------------------------------------------------------------------------------------------------------------------------------------------------------------------------------------------------------------------------------------------------------------------------------------------------------------------------------------------------------------------------------------------------------------------------------------------------------------------------------------------------------------------------------------------------------------------------------------------------------------------------------------------------------------------------------------------------------------------------------------------------------------------------------------------------------------------------------------------------------------------------------------------------------------------------------------------------------------------------------------------------------------------------------------------------------------------------------------------------------------------------------------------------------------------------------------------------------------------------------------------------------------------------------------------------------------------------------------------------------------------------------------------------------------------------------------------------------------------------------------------------------------------------------------------------------------------------------------------------------------------------------------------------------------------------------------------------------------------------------------------------------------------------------------------------------------------------------------------------------------------------------------------------------------------------------------------------------------------------------------------------------------------------------------------------------------------------------------------------------------------------------------------------------------------------------------------------------------------------------------------------------------------------------------------------------------------------------------------------------------------------------------------------------------------------------------------------------------------------------------------------------------------------------------------------------------------------------------------------------------------------------------------------------------------------------------------------------------------------+\n|Job Description                                                                                                                                                                                                                                                                                                                                                                                                                                                                                                                                                                                                                                                                                                                                                                                                                                                                                                                                                                                                                                                                                                                                                                                                                                                                                                                                                                                                                                                                                                                                                                                                                                                                                                                                                                                                                                                                                                                                                                                                                                                                                                                                                                                                                                                                                                                                                                                                                                                                                                                                                                                                                                                                                                                                                                                                                                                                                                                                                                                                                                                                                                                                                                                                                                                                                                                                                                                                                                                                                                                                                                                                                                                                                                                                                                                                                                                                                                                                                                                                                                                                                                                                                                                                                                                                                                                                                                                                                                                                                                                                                                                                                                                                                                                                                                                                                                                                                                                                                                                                                                                                                                                                                                                                                                                                                                                                                                                                                                                                                                                                                                                                                                                                                                                                                                                                                                                                                                                                                                                                                                                                                                                                                                                                                                                                                                                                                                                                                                                                                                                                                                                                                                                                                                                                                                                                                                                                                                                                                                                                                                                                                                                                                                                                                                                                                                                                                                                                                                                                                                                                                                                                                                                                                                                                                                                                                                                                                                                                                                                                                                                                                                                                                                                                                                                                                                                                                                                                                                                                                                                                                                                                                                                                                                                                                                                                                                                                                                                                                                                                                                                                                              |\n+-------------------------------------------------------------------------------------------------------------------------------------------------------------------------------------------------------------------------------------------------------------------------------------------------------------------------------------------------------------------------------------------------------------------------------------------------------------------------------------------------------------------------------------------------------------------------------------------------------------------------------------------------------------------------------------------------------------------------------------------------------------------------------------------------------------------------------------------------------------------------------------------------------------------------------------------------------------------------------------------------------------------------------------------------------------------------------------------------------------------------------------------------------------------------------------------------------------------------------------------------------------------------------------------------------------------------------------------------------------------------------------------------------------------------------------------------------------------------------------------------------------------------------------------------------------------------------------------------------------------------------------------------------------------------------------------------------------------------------------------------------------------------------------------------------------------------------------------------------------------------------------------------------------------------------------------------------------------------------------------------------------------------------------------------------------------------------------------------------------------------------------------------------------------------------------------------------------------------------------------------------------------------------------------------------------------------------------------------------------------------------------------------------------------------------------------------------------------------------------------------------------------------------------------------------------------------------------------------------------------------------------------------------------------------------------------------------------------------------------------------------------------------------------------------------------------------------------------------------------------------------------------------------------------------------------------------------------------------------------------------------------------------------------------------------------------------------------------------------------------------------------------------------------------------------------------------------------------------------------------------------------------------------------------------------------------------------------------------------------------------------------------------------------------------------------------------------------------------------------------------------------------------------------------------------------------------------------------------------------------------------------------------------------------------------------------------------------------------------------------------------------------------------------------------------------------------------------------------------------------------------------------------------------------------------------------------------------------------------------------------------------------------------------------------------------------------------------------------------------------------------------------------------------------------------------------------------------------------------------------------------------------------------------------------------------------------------------------------------------------------------------------------------------------------------------------------------------------------------------------------------------------------------------------------------------------------------------------------------------------------------------------------------------------------------------------------------------------------------------------------------------------------------------------------------------------------------------------------------------------------------------------------------------------------------------------------------------------------------------------------------------------------------------------------------------------------------------------------------------------------------------------------------------------------------------------------------------------------------------------------------------------------------------------------------------------------------------------------------------------------------------------------------------------------------------------------------------------------------------------------------------------------------------------------------------------------------------------------------------------------------------------------------------------------------------------------------------------------------------------------------------------------------------------------------------------------------------------------------------------------------------------------------------------------------------------------------------------------------------------------------------------------------------------------------------------------------------------------------------------------------------------------------------------------------------------------------------------------------------------------------------------------------------------------------------------------------------------------------------------------------------------------------------------------------------------------------------------------------------------------------------------------------------------------------------------------------------------------------------------------------------------------------------------------------------------------------------------------------------------------------------------------------------------------------------------------------------------------------------------------------------------------------------------------------------------------------------------------------------------------------------------------------------------------------------------------------------------------------------------------------------------------------------------------------------------------------------------------------------------------------------------------------------------------------------------------------------------------------------------------------------------------------------------------------------------------------------------------------------------------------------------------------------------------------------------------------------------------------------------------------------------------------------------------------------------------------------------------------------------------------------------------------------------------------\n\n*** WARNING: max output size exceeded, skipping output. ***\n\n                                                                                                                                                                                                                                                                                                                                                                                                                                                                                                                                                                                                                                                                                                                                                                                                                                                                                                                                                                                                                                                                                                                                                                                                                                                                                                                                                                                                                                                                                                                                                                                                                                                                                                                                                                                                                                                                                                                                                                                                                                                                                                                                                                                                                                                                                                                                                                                                                                                                                                                                                                                                                                                                                                                                                                                                                                                                                                                                                                                                                                                                                                                                                                                                                                                                                                                                                                                                                                                                                                                                                                                                                                                                                                                                                                                                                                                                                                                                                                                                                                                                                                                                                                                                                                                                                                                                                                                                                                                                                                                                                                                                                                                                                                                                                                                                                                                                                                                                                                                                                                                                                                                                                                                                                                                                                                                                                                                                                                                                                                                                                                                                                                                                                                                                                                                                                                                                                                                                                                                                                                                                                                                                                                                                                                                                                                                                                                                                                                                                                                                                                                                                                                                                                                                                                                                                                                                                                                                                                                                                                                                                                                                                                                                                                                                                                                                                                                                                                                                                                                                                                                                                                                                                                                                                                                            |\n|JOB DESCRIPTION:  Do you have a passion for Data and Machine Learning? Do you dream of working with customers on their most forward-looking AI initiatives? Does the challenge of developing modern machine learning solutions to solve real-world manufacturing problems exciting to you?  We develop software for monitoring semiconductor manufacturing process and are looking to leverage the latest technologies to address our customer's needs. You will be part of a team that investigates and builds solutions based all the data available in factories, ranging from time series data, to post manufacturing data, to production logs. You will be working side by side with application developers and customers on real world problems with actual manufacturing data.  JOB FUNCTION:  Basic and applied research in statistical machine learning, deep learning, and data science as well as signal and information processing to advance the state of the art in time series analysis of semiconductor manufacturing data.  Responsibilities: Perform data analysis, data pre-processing, and feature engineering in support of advanced machine learning algorithm development. Incorporate physical and operational insights/constraints into statistical models to achieve a high degree of robustness. Prototype algorithms for proof of concept, validation, and software implementation. Support performance evaluations and the transition of algorithms into existing fault detection and classification systems. Convey the results of scientific research to sponsors and the scientific community through briefings, conferences and peer-reviewed publications. Other related functions as assigned.  REQUIRED QUALIFICATIONS: Bachelor's degree in computer science or chemical engineering or related technical field. Demonstrated ability in machine learning/artificial intelligence (ML/AI) development and/or scientific modelling and data analysis. Demonstrated ability with python/MATLAB or similar abstract language. Experience with both traditional ML and modern deep learning approaches. Experience with agile development practices and Git version control. Experience with one or more of the DNN frameworks like TensorFlow, PyTorch, Chainer. Experience with SQL, Graph stores, or NoSQL stores. Applicant must have a dynamic skill set, be willing to work with new technologies, be highly organized and capable of planning and coordinating multiple tasks. The position will require attention to detail, effective problem solving skills and excellent judgment. Ability to work independently with sensitive and confidential information, maintain a professional demeanor, work as a team member without daily supervision.  COMPENSATION & BENEFITS:  Compensation will be commensurate with experience including a competitive base salary, bonus opportunity, competitive benefits package, and relocation assistance.  INFICON, is committed to ensuring that our online application process provides an equal opportunity to all job seekers that apply without regard to race, religion, ethnicity, national origin, citizenship, gender, age, protected veteran status, disability status, genetic information, sexual orientation, or any other protected characteristic. A notice describing Federal equal employment opportunity laws is available here and here to reaffirm this commitment.  PI120660357                                                                                                                                                                                                                                                                                                                                                                                                                                                                                                                                                                                                                                                                                                                                                                                                                                                                                                                                                                                                                                                                                                                                                                                                                                                                                                                                                                                                                                                                                                                                                                                                                                                                                                                                                                                                                                                                                                                                                                                                                                                                                                                                                                                                                                                                                                                                                                                                                                                                                                                                                                                                                                                                                                                                                                                                                                                                                                                                                                                                                                                                                                                                                                                                                                                                                                                                                                                                                                                                                                                                                                                                                                                                                                                                                                                                                                                                                                                                                                                                                                                                                                                                                                                                                                                                                                                                                                                                                                                                                                                                                                                                                                                                                                                                                                                                                                                                                                                                                                                                                                                                                                                                                                                                                                                                                                                                                                                                                                                                                                                                                                                                                        |\n+-------------------------------------------------------------------------------------------------------------------------------------------------------------------------------------------------------------------------------------------------------------------------------------------------------------------------------------------------------------------------------------------------------------------------------------------------------------------------------------------------------------------------------------------------------------------------------------------------------------------------------------------------------------------------------------------------------------------------------------------------------------------------------------------------------------------------------------------------------------------------------------------------------------------------------------------------------------------------------------------------------------------------------------------------------------------------------------------------------------------------------------------------------------------------------------------------------------------------------------------------------------------------------------------------------------------------------------------------------------------------------------------------------------------------------------------------------------------------------------------------------------------------------------------------------------------------------------------------------------------------------------------------------------------------------------------------------------------------------------------------------------------------------------------------------------------------------------------------------------------------------------------------------------------------------------------------------------------------------------------------------------------------------------------------------------------------------------------------------------------------------------------------------------------------------------------------------------------------------------------------------------------------------------------------------------------------------------------------------------------------------------------------------------------------------------------------------------------------------------------------------------------------------------------------------------------------------------------------------------------------------------------------------------------------------------------------------------------------------------------------------------------------------------------------------------------------------------------------------------------------------------------------------------------------------------------------------------------------------------------------------------------------------------------------------------------------------------------------------------------------------------------------------------------------------------------------------------------------------------------------------------------------------------------------------------------------------------------------------------------------------------------------------------------------------------------------------------------------------------------------------------------------------------------------------------------------------------------------------------------------------------------------------------------------------------------------------------------------------------------------------------------------------------------------------------------------------------------------------------------------------------------------------------------------------------------------------------------------------------------------------------------------------------------------------------------------------------------------------------------------------------------------------------------------------------------------------------------------------------------------------------------------------------------------------------------------------------------------------------------------------------------------------------------------------------------------------------------------------------------------------------------------------------------------------------------------------------------------------------------------------------------------------------------------------------------------------------------------------------------------------------------------------------------------------------------------------------------------------------------------------------------------------------------------------------------------------------------------------------------------------------------------------------------------------------------------------------------------------------------------------------------------------------------------------------------------------------------------------------------------------------------------------------------------------------------------------------------------------------------------------------------------------------------------------------------------------------------------------------------------------------------------------------------------------------------------------------------------------------------------------------------------------------------------------------------------------------------------------------------------------------------------------------------------------------------------------------------------------------------------------------------------------------------------------------------------------------------------------------------------------------------------------------------------------------------------------------------------------------------------------------------------------------------------------------------------------------------------------------------------------------------------------------------------------------------------------------------------------------------------------------------------------------------------------------------------------------------------------------------------------------------------------------------------------------------------------------------------------------------------------------------------------------------------------------------------------------------------------------------------------------------------------------------------------------------------------------------------------------------------------------------------------------------------------------------------------------------------------------------------------------------------------------------------------------------------------------------------------------------------------------------------------------------------------------------------------------------------------------------------------------------------------------------------------------------------------------------------------------------------------------------------------------------------------------------------------------------------------------------------------------------------------------------------------------------------------------------------------------------------------------------------------------------------------------------------------------------------------------------------------------------------------------------------------------------------------------------------------------------------------------------------------------------------------------------------------------------------------------------------------------------------------------------------------------------------------------------------------------------------------------------------------------------------------------------------------------------------------------------------------------------------------------------------------------------------------------------------------------------------------------------------------------------------------------------------------------------------------------------------------------------------------------------------------------------------------------------------------------------------------------------------------------------------------------------------------------------------------------------------------------------------------------------------------------------------------------------------------------------------------------------------------------------------------------------------------------------------------------------------------------------------------------------------------------------------------------------------------------+\nonly showing top 20 rows\n\n"
     ]
    }
   ],
   "source": [
    "from pyspark.sql.functions import regexp_replace\n",
    "\n",
    "# Eliminar los saltos de línea (\\n) de la columna \"Job Description\"\n",
    "df = df.withColumn(\"Job Description\", regexp_replace(\"Job Description\", r\"\\n\", \" \"))\n",
    "\n",
    "# Mostrar algunos registros para verificar el cambio\n",
    "df.select(\"Job Description\").distinct().show(truncate=False)\n"
   ]
  },
  {
   "cell_type": "markdown",
   "metadata": {
    "application/vnd.databricks.v1+cell": {
     "cellMetadata": {},
     "inputWidgets": {},
     "nuid": "63b8b421-3881-4bae-95c0-b79a37422e48",
     "showTitle": false,
     "tableResultSettingsMap": {},
     "title": ""
    }
   },
   "source": [
    "12. De la columna `Rating` muestre los valores unicos."
   ]
  },
  {
   "cell_type": "code",
   "execution_count": 0,
   "metadata": {
    "application/vnd.databricks.v1+cell": {
     "cellMetadata": {
      "byteLimit": 2048000,
      "rowLimit": 10000
     },
     "inputWidgets": {},
     "nuid": "e626c3ea-ec20-4807-b239-6df29afd3fc2",
     "showTitle": false,
     "tableResultSettingsMap": {},
     "title": ""
    }
   },
   "outputs": [
    {
     "output_type": "stream",
     "name": "stdout",
     "output_type": "stream",
     "text": [
      "+------+\n|Rating|\n+------+\n|29    |\n|42    |\n|34    |\n|28    |\n|22    |\n|35    |\n|47    |\n|43    |\n|31    |\n|27    |\n|41    |\n|38    |\n|44    |\n|33    |\n|48    |\n|32    |\n|36    |\n|37    |\n|39    |\n|50    |\n+------+\nonly showing top 20 rows\n\n"
     ]
    }
   ],
   "source": [
    "df.select(\"Rating\").distinct().show(truncate=False)\n"
   ]
  },
  {
   "cell_type": "markdown",
   "metadata": {
    "application/vnd.databricks.v1+cell": {
     "cellMetadata": {},
     "inputWidgets": {},
     "nuid": "fd85fcdd-3514-4ad2-ab52-d1f21b825f5b",
     "showTitle": false,
     "tableResultSettingsMap": {},
     "title": ""
    }
   },
   "source": [
    "13. Del campo `Rating` reemplazar los `-1.0` por `0.0`."
   ]
  },
  {
   "cell_type": "code",
   "execution_count": 0,
   "metadata": {
    "application/vnd.databricks.v1+cell": {
     "cellMetadata": {
      "byteLimit": 2048000,
      "rowLimit": 10000
     },
     "inputWidgets": {},
     "nuid": "ec6fe6e2-ada8-4dac-b37e-564708c1f43d",
     "showTitle": false,
     "tableResultSettingsMap": {},
     "title": ""
    }
   },
   "outputs": [
    {
     "output_type": "stream",
     "name": "stdout",
     "output_type": "stream",
     "text": [
      "+------+\n|Rating|\n+------+\n|29    |\n|42    |\n|34    |\n|28    |\n|22    |\n|35    |\n|47    |\n|43    |\n|31    |\n|27    |\n|41    |\n|38    |\n|44    |\n|33    |\n|48    |\n|32    |\n|36    |\n|37    |\n|39    |\n|50    |\n+------+\nonly showing top 20 rows\n\n"
     ]
    }
   ],
   "source": [
    "\n",
    "from pyspark.sql.functions import when\n",
    "\n",
    "# Reemplazar los valores -1.0 en la columna Rating por 0.0\n",
    "df = df.withColumn(\"Rating\", when(df[\"Rating\"] == -1.0, 0.0).otherwise(df[\"Rating\"]))\n",
    "\n",
    "# Mostrar los valores únicos de la columna Rating después del reemplazo\n",
    "df.select(\"Rating\").distinct().show(truncate=False)"
   ]
  },
  {
   "cell_type": "markdown",
   "metadata": {
    "application/vnd.databricks.v1+cell": {
     "cellMetadata": {},
     "inputWidgets": {},
     "nuid": "fd30cd0d-46a3-4f2f-84f8-4c7e81d7d3ee",
     "showTitle": false,
     "tableResultSettingsMap": {},
     "title": ""
    }
   },
   "source": [
    "14. Mostrar los valores unicos y ordenar los valores del campo `Company Name`."
   ]
  },
  {
   "cell_type": "code",
   "execution_count": 0,
   "metadata": {
    "application/vnd.databricks.v1+cell": {
     "cellMetadata": {
      "byteLimit": 2048000,
      "rowLimit": 10000
     },
     "inputWidgets": {},
     "nuid": "3cf52306-1d72-43aa-9b78-e603460bf1c3",
     "showTitle": false,
     "tableResultSettingsMap": {},
     "title": ""
    }
   },
   "outputs": [
    {
     "output_type": "stream",
     "name": "stdout",
     "output_type": "stream",
     "text": [
      "+--------------------------------------+\n|Company Name                          |\n+--------------------------------------+\n|0                                     |\n|1-800-Flowers\\n2.7                    |\n|1010data\\n3.1                         |\n|10x Genomics\\n4.2                     |\n|1904labs\\n4.7                         |\n|22nd Century Technologies\\n3.7        |\n|7Park Data\\n3.9                       |\n|A Place for Mom\\n2.7                  |\n|A-Line Staffing Solutions\\n4.1        |\n|ABIOMED\\n4.1                          |\n|ALTA IT Services\\n3.9                 |\n|ASRC Federal Holding Company\\n3.4     |\n|AccessHope                            |\n|Acuity Insurance\\n4.8                 |\n|Advance Sourcing Concepts\\n3.4        |\n|Advanced Bio-Logic Solutions Corp\\n4.0|\n|Advanced BioScience Laboratories\\n2.7 |\n|Adwait Algorithm\\n4.4                 |\n|AeroVironment\\n4.2                    |\n|Affinity Solutions\\n2.9               |\n+--------------------------------------+\nonly showing top 20 rows\n\n"
     ]
    }
   ],
   "source": [
    "df.select(\"Company Name\").distinct().orderBy(\"Company Name\").show(truncate=False)\n"
   ]
  },
  {
   "cell_type": "markdown",
   "metadata": {
    "application/vnd.databricks.v1+cell": {
     "cellMetadata": {},
     "inputWidgets": {},
     "nuid": "bd2e2a45-3570-49a6-823c-882f5714a647",
     "showTitle": false,
     "tableResultSettingsMap": {},
     "title": ""
    }
   },
   "source": [
    "15. Quitar todos los caracteres innecesarios que encuentres en el campo `Company Name`. Por ejemplo los saltos de linea `\\n`"
   ]
  },
  {
   "cell_type": "markdown",
   "metadata": {
    "application/vnd.databricks.v1+cell": {
     "cellMetadata": {},
     "inputWidgets": {},
     "nuid": "5e594ec2-2d3f-429a-8cf4-7a6815567aa0",
     "showTitle": false,
     "tableResultSettingsMap": {},
     "title": ""
    }
   },
   "source": [
    "16. En el campo `Location` convertir esa columna en dos: `City` y `State`. Las ciudades que tengas en `Location` asignar a la columna `City`. Lo mismo para `State`. Luego elimine la columna `Location`."
   ]
  },
  {
   "cell_type": "code",
   "execution_count": 0,
   "metadata": {
    "application/vnd.databricks.v1+cell": {
     "cellMetadata": {
      "byteLimit": 2048000,
      "rowLimit": 10000
     },
     "inputWidgets": {},
     "nuid": "c8b972f1-b20e-440a-afbc-7c43b52a0571",
     "showTitle": false,
     "tableResultSettingsMap": {},
     "title": ""
    }
   },
   "outputs": [
    {
     "output_type": "stream",
     "name": "stdout",
     "output_type": "stream",
     "text": [
      "+----------------------------------------+\n|Company Name                            |\n+----------------------------------------+\n|Analysis Group 3.8                      |\n|ManTech 4.2                             |\n|Old World Industries 3.1                |\n|Triplebyte 3.2                          |\n|XSELL Technologies 3.6                  |\n|HG Insights 4.2                         |\n|PNNL 3.7                                |\n|Novetta 4.5                             |\n|INFICON 3.5                             |\n|Buckman 3.5                             |\n|Mathematica Policy Research 3.4         |\n|Insight Enterprises, Inc. 4.2           |\n|Healthfirst 3.1                         |\n|Tower Health 3.5                        |\n|Upside Business Travel 4.1              |\n|1904labs 4.7                            |\n|Affinity Solutions 2.9                  |\n|Guzman & Griffin Technologies (GGTI) 4.4|\n|iRobot 3.5                              |\n|Intuit - Data 4.4                       |\n+----------------------------------------+\nonly showing top 20 rows\n\n"
     ]
    }
   ],
   "source": [
    "\n",
    "from pyspark.sql.functions import regexp_replace\n",
    "\n",
    "# Quitar los caracteres innecesarios como los saltos de línea \\n y otros posibles caracteres\n",
    "df = df.withColumn(\"Company Name\", regexp_replace(\"Company Name\", r\"\\n\", \" \"))\n",
    "\n",
    "# Mostrar algunos registros para verificar el cambio\n",
    "df.select(\"Company Name\").distinct().show(truncate=False)"
   ]
  },
  {
   "cell_type": "markdown",
   "metadata": {
    "application/vnd.databricks.v1+cell": {
     "cellMetadata": {},
     "inputWidgets": {},
     "nuid": "0ed408ad-803a-4209-9dae-57b7418724ef",
     "showTitle": false,
     "tableResultSettingsMap": {},
     "title": ""
    }
   },
   "source": [
    "17. Repetir la misma lógica de la pregunta 16 pero para el campo `Headquarters`. En Headquarters dejar solo la ciudad, mientras que para el estado añadirla a una columna nueva ` Headquarter State`."
   ]
  },
  {
   "cell_type": "code",
   "execution_count": 0,
   "metadata": {
    "application/vnd.databricks.v1+cell": {
     "cellMetadata": {
      "byteLimit": 2048000,
      "rowLimit": 10000
     },
     "inputWidgets": {},
     "nuid": "78b81290-98af-4ff5-b750-da88688a6987",
     "showTitle": false,
     "tableResultSettingsMap": {},
     "title": ""
    }
   },
   "outputs": [],
   "source": [
    "from pyspark.sql.functions import col, regexp_replace\n",
    "df = df.withColumn(\"Headquarter City\", regexp_replace(col(\"Headquarters\"), r\",.*\", \"\"))\n",
    "df = df.withColumn(\"Headquarter State\", regexp_replace(col(\"Headquarters\"), r\".*,\", \"\"))\n",
    "df = df.drop(\"Headquarters\")"
   ]
  },
  {
   "cell_type": "markdown",
   "metadata": {
    "application/vnd.databricks.v1+cell": {
     "cellMetadata": {},
     "inputWidgets": {},
     "nuid": "09c9f37c-dbe5-4f0e-8f9b-7c4b4cfe8ee1",
     "showTitle": false,
     "tableResultSettingsMap": {},
     "title": ""
    }
   },
   "source": [
    "18. Muestre los valores únicos del campo `Headquarter State` "
   ]
  },
  {
   "cell_type": "code",
   "execution_count": 0,
   "metadata": {
    "application/vnd.databricks.v1+cell": {
     "cellMetadata": {
      "byteLimit": 2048000,
      "rowLimit": 10000
     },
     "inputWidgets": {},
     "nuid": "614a2d65-5901-42a3-a55b-0ee8b1596f7f",
     "showTitle": false,
     "tableResultSettingsMap": {},
     "title": ""
    }
   },
   "outputs": [
    {
     "output_type": "stream",
     "name": "stdout",
     "output_type": "stream",
     "text": [
      "+-----------------+\n|Headquarter State|\n+-----------------+\n|               WA|\n|               MO|\n|            Japan|\n|               NE|\n|               AZ|\n|               TN|\n|               MA|\n|               NY|\n|               OH|\n|               IL|\n|               FL|\n|               LA|\n|               CA|\n|      Switzerland|\n|        Singapore|\n|               PA|\n|               NJ|\n|               GA|\n|               VA|\n|               WI|\n+-----------------+\nonly showing top 20 rows\n\n"
     ]
    }
   ],
   "source": [
    "df.select(\"Headquarter State\").distinct().show()\n"
   ]
  },
  {
   "cell_type": "markdown",
   "metadata": {
    "application/vnd.databricks.v1+cell": {
     "cellMetadata": {},
     "inputWidgets": {},
     "nuid": "a7895f10-d9c8-443b-a225-848031030eb5",
     "showTitle": false,
     "tableResultSettingsMap": {},
     "title": ""
    }
   },
   "source": [
    "19. Mostrar valores unicos del campo `Size`."
   ]
  },
  {
   "cell_type": "code",
   "execution_count": 0,
   "metadata": {
    "application/vnd.databricks.v1+cell": {
     "cellMetadata": {
      "byteLimit": 2048000,
      "rowLimit": 10000
     },
     "inputWidgets": {},
     "nuid": "3e4ab417-e43e-448a-a00f-3869a654efe0",
     "showTitle": false,
     "tableResultSettingsMap": {},
     "title": ""
    }
   },
   "outputs": [
    {
     "output_type": "stream",
     "name": "stdout",
     "output_type": "stream",
     "text": [
      "+--------------------+\n|                Size|\n+--------------------+\n|                  -1|\n|5001 to 10000 emp...|\n|                   0|\n|             Unknown|\n| 51 to 200 employees|\n|1001 to 5000 empl...|\n|501 to 1000 emplo...|\n|201 to 500 employees|\n|    10000+ employees|\n|   1 to 50 employees|\n+--------------------+\n\n"
     ]
    }
   ],
   "source": [
    "df.select(\"Size\").distinct().show()\n"
   ]
  },
  {
   "cell_type": "markdown",
   "metadata": {
    "application/vnd.databricks.v1+cell": {
     "cellMetadata": {},
     "inputWidgets": {},
     "nuid": "c8f6a6b8-52b5-4e2e-9850-6dadc97f206c",
     "showTitle": false,
     "tableResultSettingsMap": {},
     "title": ""
    }
   },
   "source": [
    "20. Quitar 'employee' de los registros del campo `Size`. Elimine tambien otros caracteres basura."
   ]
  },
  {
   "cell_type": "code",
   "execution_count": 0,
   "metadata": {
    "application/vnd.databricks.v1+cell": {
     "cellMetadata": {
      "byteLimit": 2048000,
      "rowLimit": 10000
     },
     "inputWidgets": {},
     "nuid": "84a14457-b951-4260-8917-c50c83c74396",
     "showTitle": false,
     "tableResultSettingsMap": {},
     "title": ""
    }
   },
   "outputs": [],
   "source": [
    "df = df.withColumn(\"Size\", regexp_replace(col(\"Size\"), \"employees\", \"\"))\n"
   ]
  },
  {
   "cell_type": "markdown",
   "metadata": {
    "application/vnd.databricks.v1+cell": {
     "cellMetadata": {},
     "inputWidgets": {},
     "nuid": "36dfe0a0-9a25-40bc-8282-cba498d2badd",
     "showTitle": false,
     "tableResultSettingsMap": {},
     "title": ""
    }
   },
   "source": [
    "21. Reemplazar la palabra 'to' por '-' en todos los registros del campo `Size`. Reemplazar tambien '-1' por 'Unknown'. "
   ]
  },
  {
   "cell_type": "code",
   "execution_count": 0,
   "metadata": {
    "application/vnd.databricks.v1+cell": {
     "cellMetadata": {
      "byteLimit": 2048000,
      "rowLimit": 10000
     },
     "inputWidgets": {},
     "nuid": "91403b64-8d16-4561-96e8-7c4332a91da6",
     "showTitle": false,
     "tableResultSettingsMap": {},
     "title": ""
    }
   },
   "outputs": [],
   "source": [
    "\n",
    "df = df.withColumn(\"Size\", regexp_replace(col(\"Size\"), \"to\", \"-\"))\n",
    "df = df.withColumn(\"Size\", regexp_replace(col(\"Size\"), \"-1\", \"Unknown\"))"
   ]
  },
  {
   "cell_type": "markdown",
   "metadata": {
    "application/vnd.databricks.v1+cell": {
     "cellMetadata": {},
     "inputWidgets": {},
     "nuid": "f598578e-b86d-4de7-a298-709ec19648ed",
     "showTitle": false,
     "tableResultSettingsMap": {},
     "title": ""
    }
   },
   "source": [
    "22. Mostrar el tipo de dato del campo `Type of ownership` y sus registros unicos."
   ]
  },
  {
   "cell_type": "code",
   "execution_count": 0,
   "metadata": {
    "application/vnd.databricks.v1+cell": {
     "cellMetadata": {
      "byteLimit": 2048000,
      "rowLimit": 10000
     },
     "inputWidgets": {},
     "nuid": "f5e52a5e-3d8e-43c4-902a-88d1fb7a238e",
     "showTitle": false,
     "tableResultSettingsMap": {},
     "title": ""
    }
   },
   "outputs": [
    {
     "output_type": "stream",
     "name": "stdout",
     "output_type": "stream",
     "text": [
      "root\n |-- Type of ownership: string (nullable = true)\n\n+------------------------------+\n|Type of ownership             |\n+------------------------------+\n|-1                            |\n|Government                    |\n|Subsidiary or Business Segment|\n|Self-employed                 |\n|Contract                      |\n|Unknown                       |\n|College / University          |\n|Company - Private             |\n|Nonprofit Organization        |\n|Hospital                      |\n|Private Practice / Firm       |\n|Company - Public              |\n|Other Organization            |\n+------------------------------+\n\n"
     ]
    }
   ],
   "source": [
    "\n",
    "# Mostrar el tipo de dato y los valores únicos de la columna Type of ownership\n",
    "df.select(\"Type of ownership\").printSchema()\n",
    "df.select(\"Type of ownership\").distinct().show(truncate=False)"
   ]
  },
  {
   "cell_type": "markdown",
   "metadata": {
    "application/vnd.databricks.v1+cell": {
     "cellMetadata": {},
     "inputWidgets": {},
     "nuid": "4f42ef72-f068-4b46-b1d3-6a5d59290322",
     "showTitle": false,
     "tableResultSettingsMap": {},
     "title": ""
    }
   },
   "source": [
    "23. Cambiar '-1' por 'Unknown' en todos los registros del campo `Type of ownership`."
   ]
  },
  {
   "cell_type": "code",
   "execution_count": 0,
   "metadata": {
    "application/vnd.databricks.v1+cell": {
     "cellMetadata": {
      "byteLimit": 2048000,
      "rowLimit": 10000
     },
     "inputWidgets": {},
     "nuid": "e5d2cbd9-a537-4443-b4f0-0699e0f6e4c7",
     "showTitle": false,
     "tableResultSettingsMap": {},
     "title": ""
    }
   },
   "outputs": [],
   "source": [
    "from pyspark.sql.functions import when\n",
    "\n",
    "# Reemplazar '-1' por 'Unknown' en la columna 'Type of ownership'\n",
    "df = df.withColumn(\"Type of ownership\", when(df[\"Type of ownership\"] == '-1', 'Unknown').otherwise(df[\"Type of ownership\"]))\n"
   ]
  },
  {
   "cell_type": "markdown",
   "metadata": {
    "application/vnd.databricks.v1+cell": {
     "cellMetadata": {},
     "inputWidgets": {},
     "nuid": "6b9f9087-9cce-4213-b99b-f573757dbd97",
     "showTitle": false,
     "tableResultSettingsMap": {},
     "title": ""
    }
   },
   "source": [
    "24. Cambiar:  \n",
    "-  `Company - Public` por `Public Company`  \n",
    "-  `Company - Private` por `Private Company`  \n",
    "-  `Private Practice / Firm` por `Private Company`  \n",
    "-  `Subsidiary or Business Segment` por `Business`  \n",
    "-  `College / University` por `Education`  \n",
    "En todos los registros del campo `Type of ownership`."
   ]
  },
  {
   "cell_type": "code",
   "execution_count": 0,
   "metadata": {
    "application/vnd.databricks.v1+cell": {
     "cellMetadata": {
      "byteLimit": 2048000,
      "rowLimit": 10000
     },
     "inputWidgets": {},
     "nuid": "74fbea52-921d-4688-8ba9-0d22906587e3",
     "showTitle": false,
     "tableResultSettingsMap": {},
     "title": ""
    }
   },
   "outputs": [],
   "source": [
    "df = df.withColumn(\"Type of ownership\", \n",
    "    when(df[\"Type of ownership\"] == 'Company - Public', 'Public Company')\n",
    "    .when(df[\"Type of ownership\"] == 'Company - Private', 'Private Company')\n",
    "    .when(df[\"Type of ownership\"] == 'Private Practice / Firm', 'Private Company')\n",
    "    .when(df[\"Type of ownership\"] == 'Subsidiary or Business Segment', 'Business')\n",
    "    .when(df[\"Type of ownership\"] == 'College / University', 'Education')\n",
    "    .otherwise(df[\"Type of ownership\"]))"
   ]
  },
  {
   "cell_type": "markdown",
   "metadata": {
    "application/vnd.databricks.v1+cell": {
     "cellMetadata": {},
     "inputWidgets": {},
     "nuid": "ed329cf5-1daa-4dd9-9b16-d2ab23bbf486",
     "showTitle": false,
     "tableResultSettingsMap": {},
     "title": ""
    }
   },
   "source": [
    "25. Mostrar el tipo de dato y los valores unicos del campo `Industry`."
   ]
  },
  {
   "cell_type": "code",
   "execution_count": 0,
   "metadata": {
    "application/vnd.databricks.v1+cell": {
     "cellMetadata": {
      "byteLimit": 2048000,
      "rowLimit": 10000
     },
     "inputWidgets": {},
     "nuid": "9a5ad860-e29e-4d65-ac42-3e656fd513b1",
     "showTitle": false,
     "tableResultSettingsMap": {},
     "title": ""
    }
   },
   "outputs": [
    {
     "output_type": "stream",
     "name": "stdout",
     "output_type": "stream",
     "text": [
      "root\n |-- Industry: string (nullable = true)\n\n+----------------------------------------+\n|Industry                                |\n+----------------------------------------+\n|-1                                      |\n|Investment Banking & Asset Management   |\n|Insurance Carriers                      |\n|Energy                                  |\n|Advertising & Marketing                 |\n|IT Services                             |\n|Chemical Manufacturing                  |\n|Enterprise Software & Network Solutions |\n|Internet                                |\n|Electrical & Electronic Manufacturing   |\n|Express Delivery Services               |\n|Utilities                               |\n|Biotech & Pharmaceuticals               |\n|Staffing & Outsourcing                  |\n|Research & Development                  |\n|Consulting                              |\n|Federal Agencies                        |\n|Computer Hardware & Software            |\n|Consumer Electronics & Appliances Stores|\n|Aerospace & Defense                     |\n+----------------------------------------+\nonly showing top 20 rows\n\n"
     ]
    }
   ],
   "source": [
    "\n",
    "# Mostrar tipo de dato y valores únicos de la columna Industry\n",
    "df.select(\"Industry\").printSchema()\n",
    "df.select(\"Industry\").distinct().show(truncate=False)\n"
   ]
  },
  {
   "cell_type": "markdown",
   "metadata": {
    "application/vnd.databricks.v1+cell": {
     "cellMetadata": {},
     "inputWidgets": {},
     "nuid": "c06a12fb-1a33-4cfa-aadb-c01e00a9c4ee",
     "showTitle": false,
     "tableResultSettingsMap": {},
     "title": ""
    }
   },
   "source": [
    "26. En el mismo campo de `Industry` reemplazar '-1' por 'Not Available' y '&' por 'and'.  Vuelva a imprimir los valores unicos en orden alfabético."
   ]
  },
  {
   "cell_type": "code",
   "execution_count": 0,
   "metadata": {
    "application/vnd.databricks.v1+cell": {
     "cellMetadata": {
      "byteLimit": 2048000,
      "rowLimit": 10000
     },
     "inputWidgets": {},
     "nuid": "f5534a13-ef4c-4292-9f00-42c8d605668d",
     "showTitle": false,
     "tableResultSettingsMap": {},
     "title": ""
    }
   },
   "outputs": [],
   "source": [
    "\n",
    "# Reemplazar '-1' por 'Not Available' y '&' por 'and' en la columna Industry\n",
    "df = df.withColumn(\"Industry\", \n",
    "    when(df[\"Industry\"] == '-1', 'Not Available')\n",
    "    .otherwise(df[\"Industry\"]))\n",
    "df = df.withColumn(\"Industry\", regexp_replace(\"Industry\", \"&\", \"and\"))"
   ]
  },
  {
   "cell_type": "markdown",
   "metadata": {
    "application/vnd.databricks.v1+cell": {
     "cellMetadata": {},
     "inputWidgets": {},
     "nuid": "c2490bb6-1f88-4410-a0c4-75826c48b70c",
     "showTitle": false,
     "tableResultSettingsMap": {},
     "title": ""
    }
   },
   "source": [
    "27. Para el campo `Sector`, muestre el tipo de dato y los valores únicos."
   ]
  },
  {
   "cell_type": "code",
   "execution_count": 0,
   "metadata": {
    "application/vnd.databricks.v1+cell": {
     "cellMetadata": {
      "byteLimit": 2048000,
      "rowLimit": 10000
     },
     "inputWidgets": {},
     "nuid": "03988c2d-f1a3-4080-ae29-ac1f762595d9",
     "showTitle": false,
     "tableResultSettingsMap": {},
     "title": ""
    }
   },
   "outputs": [
    {
     "output_type": "stream",
     "name": "stdout",
     "output_type": "stream",
     "text": [
      "root\n |-- Sector: string (nullable = true)\n\n+----------------------------+\n|Sector                      |\n+----------------------------+\n|Health Care                 |\n|-1                          |\n|Education                   |\n|Insurance                   |\n|Information Technology      |\n|Government                  |\n|Oil, Gas, Energy & Utilities|\n|Finance                     |\n|Real Estate                 |\n|Non-Profit                  |\n|Media                       |\n|Biotech & Pharmaceuticals   |\n|Telecommunications          |\n|Accounting & Legal          |\n|Travel & Tourism            |\n|Aerospace & Defense         |\n|Business Services           |\n|Agriculture & Forestry      |\n|Retail                      |\n|Manufacturing               |\n+----------------------------+\nonly showing top 20 rows\n\n"
     ]
    }
   ],
   "source": [
    "\n",
    "# Mostrar tipo de dato y valores únicos de la columna Sector\n",
    "df.select(\"Sector\").printSchema()\n",
    "df.select(\"Sector\").distinct().show(truncate=False)"
   ]
  },
  {
   "cell_type": "markdown",
   "metadata": {
    "application/vnd.databricks.v1+cell": {
     "cellMetadata": {},
     "inputWidgets": {},
     "nuid": "b0d92b2b-c4be-4aca-b734-3ef8d80b62cd",
     "showTitle": false,
     "tableResultSettingsMap": {},
     "title": ""
    }
   },
   "source": [
    "28. Aplica la misma lógica de la pregunta 26 pero sobre el campo `Sector`."
   ]
  },
  {
   "cell_type": "code",
   "execution_count": 0,
   "metadata": {
    "application/vnd.databricks.v1+cell": {
     "cellMetadata": {
      "byteLimit": 2048000,
      "rowLimit": 10000
     },
     "inputWidgets": {},
     "nuid": "8f568612-385a-4944-9e6e-942832dd356a",
     "showTitle": false,
     "tableResultSettingsMap": {},
     "title": ""
    }
   },
   "outputs": [],
   "source": [
    "\n",
    "# Reemplazar valores en la columna Sector (si es necesario)\n",
    "df = df.withColumn(\"Sector\", \n",
    "    when(df[\"Sector\"] == '-1', 'Not Available')\n",
    "    .otherwise(df[\"Sector\"]))\n",
    "     "
   ]
  },
  {
   "cell_type": "markdown",
   "metadata": {
    "application/vnd.databricks.v1+cell": {
     "cellMetadata": {},
     "inputWidgets": {},
     "nuid": "6a3770cb-694e-439f-8038-d28da4e3ac0f",
     "showTitle": false,
     "tableResultSettingsMap": {},
     "title": ""
    }
   },
   "source": [
    "29. Para el campo `Revenue`, muestre el tipo de dato y los valores únicos en orden ascedente."
   ]
  },
  {
   "cell_type": "code",
   "execution_count": 0,
   "metadata": {
    "application/vnd.databricks.v1+cell": {
     "cellMetadata": {
      "byteLimit": 2048000,
      "rowLimit": 10000
     },
     "inputWidgets": {},
     "nuid": "c978f138-40e9-4427-8079-114684207236",
     "showTitle": false,
     "tableResultSettingsMap": {},
     "title": ""
    }
   },
   "outputs": [
    {
     "output_type": "stream",
     "name": "stdout",
     "output_type": "stream",
     "text": [
      "root\n |-- Revenue: string (nullable = true)\n\n+--------------------------------+\n|Revenue                         |\n+--------------------------------+\n|-1                              |\n|$50 to $100 million (USD)       |\n|$100 to $500 million (USD)      |\n|0                               |\n|$10 to $25 million (USD)        |\n|$10+ billion (USD)              |\n|$1 to $5 million (USD)          |\n|$500 million to $1 billion (USD)|\n|Unknown / Non-Applicable        |\n|$25 to $50 million (USD)        |\n|$5 to $10 billion (USD)         |\n|$5 to $10 million (USD)         |\n|$2 to $5 billion (USD)          |\n|$1 to $2 billion (USD)          |\n|Less than $1 million (USD)      |\n+--------------------------------+\n\n"
     ]
    }
   ],
   "source": [
    "# Mostrar tipo de dato y valores únicos de la columna Revenue\n",
    "df.select(\"Revenue\").printSchema()\n",
    "df.select(\"Revenue\").distinct().show(truncate=False)\n",
    "     "
   ]
  },
  {
   "cell_type": "markdown",
   "metadata": {
    "application/vnd.databricks.v1+cell": {
     "cellMetadata": {},
     "inputWidgets": {},
     "nuid": "9cb56eb9-3684-49cd-b20f-fd368d23b499",
     "showTitle": false,
     "tableResultSettingsMap": {},
     "title": ""
    }
   },
   "source": [
    "30. En el campo `Revenue`, cambiar:  \n",
    "-  `-1` por `N/A`  \n",
    "-  `Unknown / Non-Applicable` por `N/A`  \n",
    "-  `Less than $1 million (USD)` por `Less than 1`\n",
    "-  Quitar `$` y `(USD)`"
   ]
  },
  {
   "cell_type": "code",
   "execution_count": 0,
   "metadata": {
    "application/vnd.databricks.v1+cell": {
     "cellMetadata": {
      "byteLimit": 2048000,
      "rowLimit": 10000
     },
     "inputWidgets": {},
     "nuid": "f7ac5ac1-cfea-4b53-a2bc-2908d7f24255",
     "showTitle": false,
     "tableResultSettingsMap": {},
     "title": ""
    }
   },
   "outputs": [
    {
     "output_type": "display_data",
     "data": {
      "text/plain": [
       "\u001B[0;36m  File \u001B[0;32m<command-4335690602505795>:7\u001B[0;36m\u001B[0m\n",
       "\u001B[0;31m    df = df.withColumn(\"Revenue\", regexp_replace(\"Revenue\", r\"$|\u001B[0m\n",
       "\u001B[0m                                                                ^\u001B[0m\n",
       "\u001B[0;31mSyntaxError\u001B[0m\u001B[0;31m:\u001B[0m EOL while scanning string literal\n"
      ]
     },
     "metadata": {
      "application/vnd.databricks.v1+output": {
       "arguments": {},
       "data": "\u001B[0;36m  File \u001B[0;32m<command-4335690602505795>:7\u001B[0;36m\u001B[0m\n\u001B[0;31m    df = df.withColumn(\"Revenue\", regexp_replace(\"Revenue\", r\"$|\u001B[0m\n\u001B[0m                                                                ^\u001B[0m\n\u001B[0;31mSyntaxError\u001B[0m\u001B[0;31m:\u001B[0m EOL while scanning string literal\n",
       "errorSummary": "<span class='ansi-red-fg'>SyntaxError</span>: EOL while scanning string literal (<command-4335690602505795>, line 7)",
       "errorTraceType": "ansi",
       "metadata": {},
       "type": "ipynbError"
      }
     },
     "output_type": "display_data"
    }
   ],
   "source": [
    "\n",
    "# Reemplazar valores específicos en la columna Revenue\n",
    "df = df.withColumn(\"Revenue\", \n",
    "    when(df[\"Revenue\"] == '-1', 'N/A')\n",
    "    .when(df[\"Revenue\"] == 'Unknown / Non-Applicable', 'N/A')\n",
    "    .when(df[\"Revenue\"] == 'Less than $1 million (USD)', 'Less than 1')\n",
    "    .otherwise(df[\"Revenue\"]))\n",
    "df = df.withColumn(\"Revenue\", regexp_replace(\"Revenue\", r\"$|\n",
    "\", \"\"))"
   ]
  },
  {
   "cell_type": "markdown",
   "metadata": {
    "application/vnd.databricks.v1+cell": {
     "cellMetadata": {},
     "inputWidgets": {},
     "nuid": "d89472f2-855f-4edc-bc47-d2654069bf38",
     "showTitle": false,
     "tableResultSettingsMap": {},
     "title": ""
    }
   },
   "source": [
    "31. Borrar el campo `Competitors`."
   ]
  },
  {
   "cell_type": "code",
   "execution_count": 0,
   "metadata": {
    "application/vnd.databricks.v1+cell": {
     "cellMetadata": {
      "byteLimit": 2048000,
      "rowLimit": 10000
     },
     "inputWidgets": {},
     "nuid": "5054bf11-b70f-4c85-afb6-cead7019847c",
     "showTitle": false,
     "tableResultSettingsMap": {},
     "title": ""
    }
   },
   "outputs": [],
   "source": [
    "df = df.drop(\"Competitors\")\n"
   ]
  },
  {
   "cell_type": "markdown",
   "metadata": {
    "application/vnd.databricks.v1+cell": {
     "cellMetadata": {},
     "inputWidgets": {},
     "nuid": "a1d3b8e8-a020-4a19-9d85-fb3f635ed316",
     "showTitle": false,
     "tableResultSettingsMap": {},
     "title": ""
    }
   },
   "source": [
    "32. Crear tres columnas: `min_salary` (salario mínimo), `max_salary` (salario maximo) y `avg_salary` (salario promedio) a partir de los datos del campo `Salary Estimate`."
   ]
  },
  {
   "cell_type": "code",
   "execution_count": 0,
   "metadata": {
    "application/vnd.databricks.v1+cell": {
     "cellMetadata": {
      "byteLimit": 2048000,
      "rowLimit": 10000
     },
     "inputWidgets": {},
     "nuid": "84cd6a6f-af2a-4aaf-a46c-a401481dbc8f",
     "showTitle": false,
     "tableResultSettingsMap": {},
     "title": ""
    }
   },
   "outputs": [],
   "source": [
    "from pyspark.sql.functions import split, col\n",
    "\n",
    "# Separar los valores del campo Salary Estimate\n",
    "df = df.withColumn(\"min_salary\", split(df[\"Salary Estimate\"], \"-\").getItem(0))\n",
    "df = df.withColumn(\"max_salary\", split(df[\"Salary Estimate\"], \"-\").getItem(1))\n",
    "\n",
    "# Convertir los valores a enteros\n",
    "df = df.withColumn(\"min_salary\", df[\"min_salary\"].cast(\"int\"))\n",
    "df = df.withColumn(\"max_salary\", df[\"max_salary\"].cast(\"int\"))\n",
    "df = df.withColumn(\"avg_salary\", (df[\"min_salary\"] + df[\"max_salary\"]) / 2)"
   ]
  },
  {
   "cell_type": "markdown",
   "metadata": {
    "application/vnd.databricks.v1+cell": {
     "cellMetadata": {},
     "inputWidgets": {},
     "nuid": "359b377b-30ee-4c05-b7cd-f0f217a4d9e7",
     "showTitle": false,
     "tableResultSettingsMap": {},
     "title": ""
    }
   },
   "source": [
    "33. Mostrar los valores unicos del campo `Founded` y el tipo de dato."
   ]
  },
  {
   "cell_type": "code",
   "execution_count": 0,
   "metadata": {
    "application/vnd.databricks.v1+cell": {
     "cellMetadata": {
      "byteLimit": 2048000,
      "rowLimit": 10000
     },
     "inputWidgets": {},
     "nuid": "f2c14ad4-1bbc-4896-a97c-e34f75f17ef8",
     "showTitle": false,
     "tableResultSettingsMap": {},
     "title": ""
    }
   },
   "outputs": [
    {
     "output_type": "stream",
     "name": "stdout",
     "output_type": "stream",
     "text": [
      "root\n |-- Founded: string (nullable = true)\n\n+-------+\n|Founded|\n+-------+\n|2016   |\n|2012   |\n|1988   |\n|2017   |\n|2014   |\n|2000   |\n|1965   |\n|1981   |\n|1968   |\n|2011   |\n|1997   |\n|1973   |\n|1996   |\n|1983   |\n|1986   |\n|2015   |\n|1998   |\n|1993   |\n|2010   |\n|1990   |\n+-------+\nonly showing top 20 rows\n\n"
     ]
    }
   ],
   "source": [
    "# Mostrar el tipo de dato y los valores únicos de la columna Founded\n",
    "df.select(\"Founded\").printSchema()\n",
    "df.select(\"Founded\").distinct().show(truncate=False)"
   ]
  },
  {
   "cell_type": "markdown",
   "metadata": {
    "application/vnd.databricks.v1+cell": {
     "cellMetadata": {},
     "inputWidgets": {},
     "nuid": "6cd2dd8d-9e02-46e5-b441-0b93d2775f05",
     "showTitle": false,
     "tableResultSettingsMap": {},
     "title": ""
    }
   },
   "source": [
    "34. Reemplazar '-1' por '2024' en todos los registros del campo `Founded`."
   ]
  },
  {
   "cell_type": "code",
   "execution_count": 0,
   "metadata": {
    "application/vnd.databricks.v1+cell": {
     "cellMetadata": {
      "byteLimit": 2048000,
      "rowLimit": 10000
     },
     "inputWidgets": {},
     "nuid": "038e8bf8-5891-4f67-af3d-ad6e827e453c",
     "showTitle": false,
     "tableResultSettingsMap": {},
     "title": ""
    }
   },
   "outputs": [],
   "source": [
    "\n",
    "\n",
    "# Reemplazar '-1' por '2024' en el campo Founde\n",
    "df = df.withColumn(\"Founded\", when(df[\"Founded\"] == '-1', 2024).otherwise(df[\"Founded\"]))\n"
   ]
  },
  {
   "cell_type": "markdown",
   "metadata": {
    "application/vnd.databricks.v1+cell": {
     "cellMetadata": {},
     "inputWidgets": {},
     "nuid": "e823336d-0258-4af5-8d13-c9a358b9295f",
     "showTitle": false,
     "tableResultSettingsMap": {},
     "title": ""
    }
   },
   "source": [
    "35. Crear una nueva columna o campo que se llame `company_age` con los datos que se deducen del campo `Founded`."
   ]
  },
  {
   "cell_type": "code",
   "execution_count": 0,
   "metadata": {
    "application/vnd.databricks.v1+cell": {
     "cellMetadata": {
      "byteLimit": 2048000,
      "rowLimit": 10000
     },
     "inputWidgets": {},
     "nuid": "e56a6538-912a-4244-8fa0-2abcf3509104",
     "showTitle": false,
     "tableResultSettingsMap": {},
     "title": ""
    }
   },
   "outputs": [],
   "source": [
    "\n",
    "# Crear la columna company_age\n",
    "df = df.withColumn(\"company_age\", 2024 - df[\"Founded\"])"
   ]
  },
  {
   "cell_type": "markdown",
   "metadata": {
    "application/vnd.databricks.v1+cell": {
     "cellMetadata": {},
     "inputWidgets": {},
     "nuid": "49a8f7ed-434c-4ad1-ba31-eeecd65c117c",
     "showTitle": false,
     "tableResultSettingsMap": {},
     "title": ""
    }
   },
   "source": [
    "36. Crear una columna o campo que se llame: `Job Type` y en cada registro debe ir Senior, Junior o NA según los datos del campo `Job Title`.  \n",
    "- Cambiar 'sr' o 'senior' o 'lead' o 'principal' por `Senior` en el campo `Job Type`. No olvidar las mayúsculas.\n",
    "- Cambiar 'jr' o 'jr.' o cualquier otra variante por `Junior`.  \n",
    "- En cualquier otro caso distinto a los anteriores añadir NA."
   ]
  },
  {
   "cell_type": "code",
   "execution_count": 0,
   "metadata": {
    "application/vnd.databricks.v1+cell": {
     "cellMetadata": {
      "byteLimit": 2048000,
      "rowLimit": 10000
     },
     "inputWidgets": {},
     "nuid": "f1bc4f11-3950-444d-b635-b36eb04ba94a",
     "showTitle": false,
     "tableResultSettingsMap": {},
     "title": ""
    }
   },
   "outputs": [],
   "source": [
    "\n",
    "# Crear la columna Job Type\n",
    "df = df.withColumn(\"Job Type\", \n",
    "    when(df[\"Job Title\"].rlike(\"(?i)sr|senior|lead|principal\"), \"Senior\")\n",
    "    .when(df[\"Job Title\"].rlike(\"(?i)jr|junior\"), \"Junior\")\n",
    "    .otherwise(\"NA\"))"
   ]
  },
  {
   "cell_type": "markdown",
   "metadata": {
    "application/vnd.databricks.v1+cell": {
     "cellMetadata": {},
     "inputWidgets": {},
     "nuid": "2c70227b-c16c-4919-9aa2-9bf9514b76dd",
     "showTitle": false,
     "tableResultSettingsMap": {},
     "title": ""
    }
   },
   "source": [
    "37. Muestra los registros únicos del campo `Job Type`. "
   ]
  },
  {
   "cell_type": "code",
   "execution_count": 0,
   "metadata": {
    "application/vnd.databricks.v1+cell": {
     "cellMetadata": {
      "byteLimit": 2048000,
      "rowLimit": 10000
     },
     "inputWidgets": {},
     "nuid": "63cddf9a-aabb-4e21-bf1c-f48d342a2ed5",
     "showTitle": false,
     "tableResultSettingsMap": {},
     "title": ""
    }
   },
   "outputs": [
    {
     "output_type": "stream",
     "name": "stdout",
     "output_type": "stream",
     "text": [
      "+--------+\n|Job Type|\n+--------+\n|Senior  |\n|NA      |\n|Junior  |\n+--------+\n\n"
     ]
    }
   ],
   "source": [
    "# Mostrar los valores únicos del campo Job Type\n",
    "df.select(\"Job Type\").distinct().show(truncate=False)"
   ]
  },
  {
   "cell_type": "markdown",
   "metadata": {
    "application/vnd.databricks.v1+cell": {
     "cellMetadata": {},
     "inputWidgets": {},
     "nuid": "2cd4dbad-048d-461f-bf2a-f54c557d16f4",
     "showTitle": false,
     "tableResultSettingsMap": {},
     "title": ""
    }
   },
   "source": [
    "38. Partiendo del campo `Job Description` se extraer todas o las principales skills solicitadas por las empresas, por ejemplo: Python, Spark , Big Data. Cada Skill debe ir en una nueva columna de tipo Binaria ( 0 , 1) o Booleana (True,  False) de modo que cada skill va ser una nueva columna y si esa skill es solicitada por la empresa colocar 1 sino colocar 0. Por ejemplo:  "
   ]
  },
  {
   "cell_type": "code",
   "execution_count": 0,
   "metadata": {
    "application/vnd.databricks.v1+cell": {
     "cellMetadata": {
      "byteLimit": 2048000,
      "rowLimit": 10000
     },
     "inputWidgets": {},
     "nuid": "8e0d77eb-0da9-44b5-a74b-c0b95b6a2b04",
     "showTitle": false,
     "tableResultSettingsMap": {},
     "title": ""
    }
   },
   "outputs": [
    {
     "output_type": "stream",
     "name": "stdout",
     "output_type": "stream",
     "text": [
      "+-----+--------------------+--------------------+--------------------+------+--------------------+-----------------+-------------+-------+--------------------+--------------------+--------------------+--------------------+----------------+-----------------+----------+----------+----------+-----------+--------+------+-----+--------+\n|index|           Job Title|     Salary Estimate|     Job Description|Rating|        Company Name|         Location|         Size|Founded|   Type of ownership|            Industry|              Sector|             Revenue|Headquarter City|Headquarter State|min_salary|max_salary|avg_salary|company_age|Job Type|Python|Spark|Big Data|\n+-----+--------------------+--------------------+--------------------+------+--------------------+-----------------+-------------+-------+--------------------+--------------------+--------------------+--------------------+----------------+-----------------+----------+----------+----------+-----------+--------+------+-----+--------+\n|    0|   Sr Data Scientist|$137K-$171K (Glas...|Description  The ...|    31|     Healthfirst 3.1|     New York, NY| 1001 - 5000 |   1993|Nonprofit Organiz...|  Insurance Carriers|           Insurance|Unknown / Non-App...|        New York|               NY|      null|      null|      null|       31.0|  Senior|     0|    0|       0|\n|    1|      Data Scientist|$137K-$171K (Glas...|Secure our Nation...|    42|         ManTech 4.2|    Chantilly, VA|5001 - 10000 |   1968|      Public Company|Research and Deve...|   Business Services|$1 to $2 billion ...|         Herndon|               VA|      null|      null|      null|       56.0|      NA|     0|    0|       1|\n|    2|      Data Scientist|$137K-$171K (Glas...|Overview   Analys...|    38|  Analysis Group 3.8|       Boston, MA| 1001 - 5000 |   1981|     Private Company|          Consulting|   Business Services|$100 to $500 mill...|          Boston|               MA|      null|      null|      null|       43.0|      NA|     1|    0|       0|\n|    3|      Data Scientist|$137K-$171K (Glas...|JOB DESCRIPTION: ...|    35|         INFICON 3.5|       Newton, MA|  501 - 1000 |   2000|      Public Company|Electrical and El...|       Manufacturing|$100 to $500 mill...|       Bad Ragaz|      Switzerland|      null|      null|      null|       24.0|      NA|     1|    0|       0|\n|    4|      Data Scientist|$137K-$171K (Glas...|Data Scientist Af...|    29|Affinity Solution...|     New York, NY|    51 - 200 |   1998|     Private Company|Advertising and M...|   Business Services|Unknown / Non-App...|        New York|               NY|      null|      null|      null|       26.0|      NA|     1|    0|       0|\n|    5|      Data Scientist|$137K-$171K (Glas...|About Us:  Headqu...|    42|     HG Insights 4.2|Santa Barbara, CA|    51 - 200 |   2010|     Private Company|Computer Hardware...|Information Techn...|Unknown / Non-App...|   Santa Barbara|               CA|      null|      null|      null|       14.0|      NA|     1|    1|       0|\n|    6|Data Scientist / ...|$137K-$171K (Glas...|Posting Title Dat...|    39|        Novartis 3.9|    Cambridge, MA|      10000+ |   1996|      Public Company|Biotech and Pharm...|Biotech & Pharmac...|  $10+ billion (USD)|           Basel|      Switzerland|      null|      null|      null|       28.0|      NA|     1|    0|       0|\n|    7|      Data Scientist|$137K-$171K (Glas...|Introduction  Hav...|    35|          iRobot 3.5|      Bedford, MA| 1001 - 5000 |   1990|      Public Company|Consumer Electron...|              Retail|$1 to $2 billion ...|         Bedford|               MA|      null|      null|      null|       34.0|      NA|     1|    0|       0|\n|    8|Staff Data Scient...|$137K-$171K (Glas...|Intuit is seeking...|    44|   Intuit - Data 4.4|    San Diego, CA|5001 - 10000 |   1983|      Public Company|Computer Hardware...|Information Techn...|$2 to $5 billion ...|   Mountain View|               CA|      null|      null|      null|       41.0|      NA|     0|    0|       0|\n|    9|      Data Scientist|$137K-$171K (Glas...|Ready to write th...|    36|XSELL Technologie...|      Chicago, IL|    51 - 200 |   2014|     Private Company|Enterprise Softwa...|Information Techn...|Unknown / Non-App...|         Chicago|               IL|      null|      null|      null|       10.0|      NA|     1|    0|       0|\n|   10|      Data Scientist|$137K-$171K (Glas...|Join our team ded...|    45|         Novetta 4.5|      Herndon, VA|  501 - 1000 |   2012|     Private Company|Enterprise Softwa...|Information Techn...|$100 to $500 mill...|         Mc Lean|               VA|      null|      null|      null|       12.0|      NA|     1|    0|       0|\n|   11|      Data Scientist|$137K-$171K (Glas...|About Us   Intere...|    47|        1904labs 4.7|  Saint Louis, MO|    51 - 200 |   2016|     Private Company|         IT Services|Information Techn...|Unknown / Non-App...|     Saint Louis|               MO|      null|      null|      null|        8.0|      NA|     1|    1|       0|\n|   12|Data Scientist - ...|$137K-$171K (Glas...|*Organization and...|    37|            PNNL 3.7|     Richland, WA| 1001 - 5000 |   1965|          Government|              Energy|Oil, Gas, Energy ...|$500 million to $...|        Richland|               WA|      null|      null|      null|       59.0|      NA|     0|    0|       0|\n|   13|        Data Modeler|$137K-$171K (Glas...|POSITION PURPOSE:...|    31|Old World Industr...|   Northbrook, IL|   201 - 500 |   1973|     Private Company|Chemical Manufact...|       Manufacturing|$1 to $2 billion ...|      Northbrook|               IL|      null|      null|      null|       51.0|      NA|     1|    0|       0|\n|   14|      Data Scientist|$137K-$171K (Glas...|Position Descript...|    34|Mathematica Polic...|   Washington, DC| 1001 - 5000 |   1986|     Private Company|          Consulting|   Business Services|$100 to $500 mill...|       Princeton|               NJ|      null|      null|      null|       38.0|      NA|     1|    0|       0|\n|   15|Experienced Data ...|$137K-$171K (Glas...|*******Please App...|    44|Guzman & Griffin ...|   Washington, DC|      1 - 50 |   1997|     Private Company|    Federal Agencies|          Government|Unknown / Non-App...|    Mays Landing|               NJ|      null|      null|      null|       27.0|      NA|     1|    1|       0|\n|   16|Data Scientist - ...|$137K-$171K (Glas...|We are an ambitio...|    41|Upside Business T...|           Remote|    51 - 200 |   2015|     Private Company|            Internet|Information Techn...|Unknown / Non-App...|      Washington|               DC|      null|      null|      null|        9.0|      NA|     1|    0|       0|\n|   17|      Data Scientist|$137K-$171K (Glas...|Job Success Profi...|    35|         Buckman 3.5|      Memphis, TN| 1001 - 5000 |   1945|     Private Company|Chemical Manufact...|       Manufacturing|$500 million to $...|         Memphis|               TN|      null|      null|      null|       79.0|      NA|     1|    0|       0|\n|   18|     Data Analyst II|$137K-$171K (Glas...|The Data Analyst ...|    42|Insight Enterpris...|        Plano, TX|5001 - 10000 |   1988|      Public Company|Enterprise Softwa...|Information Techn...|$5 to $10 billion...|           Tempe|               AZ|      null|      null|      null|       36.0|      NA|     0|    0|       0|\n|   19|Medical Lab Scien...|$137K-$171K (Glas...|Responsibilities ...|    35|    Tower Health 3.5|   West Grove, PA|5001 - 10000 |   2017|Nonprofit Organiz...|Health Care Servi...|         Health Care|Unknown / Non-App...|         Reading|               PA|      null|      null|      null|        7.0|      NA|     0|    0|       0|\n+-----+--------------------+--------------------+--------------------+------+--------------------+-----------------+-------------+-------+--------------------+--------------------+--------------------+--------------------+----------------+-----------------+----------+----------+----------+-----------+--------+------+-----+--------+\nonly showing top 20 rows\n\n"
     ]
    }
   ],
   "source": [
    "# Hacer un ejemplo con las habilidades: Python, Spark, Big Data\n",
    "df = df.withColumn(\"Python\", when(df[\"Job Description\"].rlike(\"(?i)python\"), 1).otherwise(0))\n",
    "df = df.withColumn(\"Spark\", when(df[\"Job Description\"].rlike(\"(?i)spark\"), 1).otherwise(0))\n",
    "df = df.withColumn(\"Big Data\", when(df[\"Job Description\"].rlike(\"(?i)big data\"), 1).otherwise(0))\n",
    "df.show()"
   ]
  },
  {
   "cell_type": "markdown",
   "metadata": {
    "application/vnd.databricks.v1+cell": {
     "cellMetadata": {},
     "inputWidgets": {},
     "nuid": "80e86af1-e86e-48db-b9d8-832cee782b01",
     "showTitle": false,
     "tableResultSettingsMap": {},
     "title": ""
    }
   },
   "source": [
    "Por ejemplo:  \n",
    "| Job Title         | Salary Estimate | Job Description                                 | Rating | Company Name       | Size       | Founded | Type of ownership         | Industry                       | Sector                         | Same State      | company_age | Python | Excel |\n",
    "|--------------------|-----------------|-------------------------------------------------|--------|--------------------|------------|---------|---------------------------|--------------------------------|--------------------------------|----------------|-------------|--------|-------|\n",
    "| Sr Data Scientist | 137000-171000   | Description The Senior Data Scientist is resp... | 3.1    | Healthfirst        | 1001-5000  | 1993    | Nonprofit Organization    | Insurance Carriers            | Insurance Carriers            | Same State      | 31          | 0      | 0     |\n",
    "| Data Scientist    | 137000-171000   | Secure our Nation, Ignite your Future Join th... | 4.2    | ManTech            | 5001-10000 | 1968    | Public Company            | Research and Development      | Research and Development      | Same State      | 56          | 0      | 0     |\n",
    "| Data Scientist    | 137000-171000   | Overview Analysis Group is one of the larges... | 3.8    | Analysis Group      | 1001-5000  | 1981    | Private Company           | Consulting                    | Consulting                    | Same State      | 43          | 1      | 1     |\n",
    "| Data Scientist    | 137000-171000   | JOB DESCRIPTION: Do you have a passion for Da... | 3.5    | INFICON            | 501-1000   | 2000    | Public Company            | Electrical and Electronic Manufacturing | Electrical and Electronic Manufacturing | Different State | 24          | 1      | 1     |\n"
   ]
  },
  {
   "cell_type": "markdown",
   "metadata": {
    "application/vnd.databricks.v1+cell": {
     "cellMetadata": {},
     "inputWidgets": {},
     "nuid": "5609a545-1510-4707-a0bd-a937e37675a4",
     "showTitle": false,
     "tableResultSettingsMap": {},
     "title": ""
    }
   },
   "source": [
    "39. Exportar dataset final a csv"
   ]
  },
  {
   "cell_type": "code",
   "execution_count": 0,
   "metadata": {
    "application/vnd.databricks.v1+cell": {
     "cellMetadata": {
      "byteLimit": 2048000,
      "rowLimit": 10000
     },
     "inputWidgets": {},
     "nuid": "30927d07-ecc9-4c5e-b798-7f7abd2a8b9e",
     "showTitle": false,
     "tableResultSettingsMap": {},
     "title": ""
    }
   },
   "outputs": [
    {
     "output_type": "stream",
     "name": "stdout",
     "output_type": "stream",
     "text": [
      "Archivo limpio exportado como CSV en: dbfs:/FileStore/shared_uploads/caso4_cleaned\n"
     ]
    }
   ],
   "source": [
    "cleaned_csv_path = \"dbfs:/FileStore/shared_uploads/caso4_cleaned\"\n",
    "df.write.mode(\"overwrite\").option(\"header\", \"true\").csv(cleaned_csv_path)\n",
    "print(f\"Archivo limpio exportado como CSV en: {cleaned_csv_path}\")"
   ]
  },
  {
   "cell_type": "markdown",
   "metadata": {
    "application/vnd.databricks.v1+cell": {
     "cellMetadata": {},
     "inputWidgets": {},
     "nuid": "41fe24a6-5fc3-4ec4-9b76-56fd2b3e36ba",
     "showTitle": false,
     "tableResultSettingsMap": {},
     "title": ""
    }
   },
   "source": [
    "40. Extraer todos los insights posibles que sean de valor o utilidad. Cree nuevas columnas, agrupar,  filtrar hacer varios plots que muestren dichos insights que sean de utilidad para una empresa o para un usuario. Elabore conclusiones con los insights encontrados. "
   ]
  },
  {
   "cell_type": "code",
   "execution_count": 0,
   "metadata": {
    "application/vnd.databricks.v1+cell": {
     "cellMetadata": {
      "byteLimit": 2048000,
      "rowLimit": 10000
     },
     "inputWidgets": {},
     "nuid": "12dca2b0-32f8-4516-92cc-5e04274724c2",
     "showTitle": false,
     "tableResultSettingsMap": {},
     "title": ""
    }
   },
   "outputs": [
    {
     "output_type": "display_data",
     "data": {
      "text/plain": [
       "\u001B[0;36m  File \u001B[0;32m<command-4335690602505805>:32\u001B[0;36m\u001B[0m\n",
       "\u001B[0;31m    df = df.withColumn(\"Revenue\", regexp_replace(\"Revenue\", r\"$|\u001B[0m\n",
       "\u001B[0m                                                                ^\u001B[0m\n",
       "\u001B[0;31mSyntaxError\u001B[0m\u001B[0;31m:\u001B[0m EOL while scanning string literal\n"
      ]
     },
     "metadata": {
      "application/vnd.databricks.v1+output": {
       "arguments": {},
       "data": "\u001B[0;36m  File \u001B[0;32m<command-4335690602505805>:32\u001B[0;36m\u001B[0m\n\u001B[0;31m    df = df.withColumn(\"Revenue\", regexp_replace(\"Revenue\", r\"$|\u001B[0m\n\u001B[0m                                                                ^\u001B[0m\n\u001B[0;31mSyntaxError\u001B[0m\u001B[0;31m:\u001B[0m EOL while scanning string literal\n",
       "errorSummary": "<span class='ansi-red-fg'>SyntaxError</span>: EOL while scanning string literal (<command-4335690602505805>, line 32)",
       "errorTraceType": "ansi",
       "metadata": {},
       "type": "ipynbError"
      }
     },
     "output_type": "display_data"
    }
   ],
   "source": [
    "from pyspark.sql.functions import when, split, regexp_replace\n",
    "\n",
    "# Reemplazar '-1' por 'Unknown' en la columna 'Type of ownership'\n",
    "df = df.withColumn(\"Type of ownership\", when(df[\"Type of ownership\"] == '-1', 'Unknown').otherwise(df[\"Type of ownership\"]))\n",
    "\n",
    "# Reemplazar valores específicos en 'Type of ownership'\n",
    "df = df.withColumn(\"Type of ownership\", \n",
    "    when(df[\"Type of ownership\"] == 'Company - Public', 'Public Company')\n",
    "    .when(df[\"Type of ownership\"] == 'Company - Private', 'Private Company')\n",
    "    .when(df[\"Type of ownership\"] == 'Private Practice / Firm', 'Private Company')\n",
    "    .when(df[\"Type of ownership\"] == 'Subsidiary or Business Segment', 'Business')\n",
    "    .when(df[\"Type of ownership\"] == 'College / University', 'Education')\n",
    "    .otherwise(df[\"Type of ownership\"]))\n",
    "\n",
    "# Reemplazar '-1' por 'Not Available' y '&' por 'and' en 'Industry'\n",
    "df = df.withColumn(\"Industry\", \n",
    "    when(df[\"Industry\"] == '-1', 'Not Available')\n",
    "    .otherwise(df[\"Industry\"]))\n",
    "df = df.withColumn(\"Industry\", regexp_replace(\"Industry\", \"&\", \"and\"))\n",
    "\n",
    "# Reemplazar '-1' por 'Not Available' en 'Sector'\n",
    "df = df.withColumn(\"Sector\", \n",
    "    when(df[\"Sector\"] == '-1', 'Not Available')\n",
    "    .otherwise(df[\"Sector\"]))\n",
    "\n",
    "# Reemplazar valores en 'Revenue'\n",
    "df = df.withColumn(\"Revenue\", \n",
    "    when(df[\"Revenue\"] == '-1', 'N/A')\n",
    "    .when(df[\"Revenue\"] == 'Unknown / Non-Applicable', 'N/A')\n",
    "    .when(df[\"Revenue\"] == 'Less than $1 million (USD)', 'Less than 1')\n",
    "    .otherwise(df[\"Revenue\"]))\n",
    "df = df.withColumn(\"Revenue\", regexp_replace(\"Revenue\", r\"$|\n",
    "\", \"\"))\n",
    "\n",
    "# Eliminar la columna 'Competitors'\n",
    "df = df.drop(\"Competitors\")\n",
    "\n",
    "# Separar el campo 'Salary Estimate' en 'min_salary', 'max_salary', 'avg_salary'\n",
    "df = df.withColumn(\"min_salary\", split(df[\"Salary Estimate\"], \"-\").getItem(0))\n",
    "df = df.withColumn(\"max_salary\", split(df[\"Salary Estimate\"], \"-\").getItem(1))\n",
    "df = df.withColumn(\"min_salary\", df[\"min_salary\"].cast(\"int\"))\n",
    "df = df.withColumn(\"max_salary\", df[\"max_salary\"].cast(\"int\"))\n",
    "df = df.withColumn(\"avg_salary\", (df[\"min_salary\"] + df[\"max_salary\"]) / 2)\n",
    "\n",
    "# Reemplazar '-1' por '2024' en el campo 'Founded'\n",
    "df = df.withColumn(\"Founded\", when(df[\"Founded\"] == '-1', 2024).otherwise(df[\"Founded\"]))\n",
    "\n",
    "# Crear la columna 'company_age' a partir del campo 'Founded'\n",
    "df = df.withColumn(\"company_age\", 2024 - df[\"Founded\"])\n",
    "\n",
    "# Crear la columna 'Job Type' según los valores de 'Job Title'\n",
    "df = df.withColumn(\"Job Type\", \n",
    "    when(df[\"Job Title\"].rlike(\"(?i)sr|senior|lead|principal\"), \"Senior\")\n",
    "    .when(df[\"Job Title\"].rlike(\"(?i)jr|junior\"), \"Junior\")\n",
    "    .otherwise(\"NA\"))"
   ]
  },
  {
   "cell_type": "code",
   "execution_count": 0,
   "metadata": {
    "application/vnd.databricks.v1+cell": {
     "cellMetadata": {},
     "inputWidgets": {},
     "nuid": "47336ad8-9ded-4bf1-bb31-77bee1ff1d7a",
     "showTitle": false,
     "tableResultSettingsMap": {},
     "title": ""
    }
   },
   "outputs": [],
   "source": []
  }
 ],
 "metadata": {
  "application/vnd.databricks.v1+notebook": {
   "dashboards": [],
   "environmentMetadata": null,
   "language": "python",
   "notebookMetadata": {
    "pythonIndentUnit": 4
   },
   "notebookName": "Caso_4",
   "widgets": {}
  }
 },
 "nbformat": 4,
 "nbformat_minor": 0
}
