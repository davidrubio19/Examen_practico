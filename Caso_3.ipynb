{
 "cells": [
  {
   "cell_type": "markdown",
   "metadata": {
    "application/vnd.databricks.v1+cell": {
     "cellMetadata": {},
     "inputWidgets": {},
     "nuid": "1f826429-1b0b-452b-98d5-d724d06f8ba3",
     "showTitle": false,
     "tableResultSettingsMap": {},
     "title": ""
    }
   },
   "source": [
    "# Explorando tendencias de mercado de Airbnb"
   ]
  },
  {
   "cell_type": "markdown",
   "metadata": {
    "application/vnd.databricks.v1+cell": {
     "cellMetadata": {},
     "inputWidgets": {},
     "nuid": "30017573-ddfa-442e-931f-69e52cab3f33",
     "showTitle": false,
     "tableResultSettingsMap": {},
     "title": ""
    }
   },
   "source": [
    "La ciudad de Nueva York tiene una variedad de anuncios de Airbnb para satisfacer la alta demanda de alojamiento temporal para viajeros, con diferentes niveles de precios, tipos de habitaciones y ubicaciones."
   ]
  },
  {
   "cell_type": "markdown",
   "metadata": {
    "application/vnd.databricks.v1+cell": {
     "cellMetadata": {},
     "inputWidgets": {},
     "nuid": "9113a8f5-7192-4887-b383-2d285a405f0f",
     "showTitle": false,
     "tableResultSettingsMap": {},
     "title": ""
    }
   },
   "source": [
    "La ciudad de Nueva York, es una de las ciudades más visitadas del mundo. Hay muchos anuncios de Airbnb en la ciudad de Nueva York para satisfacer la alta demanda de alojamiento temporal para viajeros, que puede durar desde unas pocas noches hasta muchos meses. En este proyecto, analizaremos más de cerca el mercado de Airbnb de Nueva York combinando datos de varios tipos de archivos como .csv, .tsv y .xlsx.\n",
    "\n",
    "Recuerde que los archivos CSV, TSV y Excel son tres formatos comunes para almacenar datos. Tiene a su disposición [tres archivos](https://tajamar365.sharepoint.com/:f:/s/3405-MasterIA2024-2025/EoXMgjAJLLNJqWDyKDig8kABSUkpWj_HGQjl267qNnHS9g?e=foxjFc) que contienen datos sobre los anuncios de Airbnb de 2019:  \n",
    "\n",
    "- `airbnb_price.csv `: Este es un archivo CSV que contiene datos sobre precios y ubicaciones de anuncios de Airbnb.  \n",
    "  1. `listing_id`: identificador único del anuncio  \n",
    "  2. `price`: precio del anuncio por noche en USD  \n",
    "  3. `nbhood_full`: nombre del distrito y del barrio donde se encuentra el anuncio  \n",
    "    \n",
    "\n",
    "- `airbnb_room_type.xlsx`: Este es un archivo Excel que contiene datos sobre las descripciones de los anuncios de Airbnb y los tipos de habitaciones.  \n",
    "  1. `listing_id`: identificador único del anuncio  \n",
    "  2. `description`: descripción del anuncio     \n",
    "  3. `room_type`: Airbnb tiene tres tipos de habitaciones: habitaciones compartidas, habitaciones privadas y casas o apartamentos completos \n",
    "\n",
    "\n",
    "- `airbnb_last_review.tsv`: Este es un archivo TSV que contiene datos sobre los nombres de los anfitriones de Airbnb y las fechas de revisión.  \n",
    "  1. `listing_id`: identificador único del anuncio  \n",
    "  2. `host_name`:  nombre del anfitrión del anuncio  \n",
    "  3. `last_review`: echa en la que se revisó el anuncio por última vez   "
   ]
  },
  {
   "cell_type": "code",
   "execution_count": 0,
   "metadata": {
    "application/vnd.databricks.v1+cell": {
     "cellMetadata": {
      "byteLimit": 2048000,
      "rowLimit": 10000
     },
     "inputWidgets": {},
     "nuid": "bc87f8df-a1fb-47d1-a2a4-54b38ad97511",
     "showTitle": false,
     "tableResultSettingsMap": {},
     "title": ""
    }
   },
   "outputs": [
    {
     "output_type": "stream",
     "name": "stdout",
     "output_type": "stream",
     "text": [
      "+----------+----------------+---------------+\n|listing_id|       host_name|    last_review|\n+----------+----------------+---------------+\n|      2595|        Jennifer|    May 21 2019|\n|      3831|     LisaRoxanne|   July 05 2019|\n|      5099|           Chris|   June 22 2019|\n|      5178|        Shunichi|   June 24 2019|\n|      5238|             Ben|   June 09 2019|\n|      5295|            Lena|   June 22 2019|\n|      5441|            Kate|   June 23 2019|\n|      5803|          Laurie|   June 24 2019|\n|      6021|         Claudio|   July 05 2019|\n|      6848|   Allen & Irina|   June 29 2019|\n|      7097|            Jane|   June 28 2019|\n|      7322|            Doti|   July 01 2019|\n|      7726|Adam And Charity|   June 22 2019|\n|      8024|           Lisel|   July 01 2019|\n|      8025|           Lisel|January 01 2019|\n|      8110|           Lisel|   July 02 2019|\n|      8490|        Nathalie|   June 19 2019|\n|      8505|         Gregory|   June 23 2019|\n|      9518|            Shon|   June 15 2019|\n|      9657|            Dana|  April 19 2019|\n+----------+----------------+---------------+\nonly showing top 20 rows\n\n+----------+-----------+--------------------+\n|listing_id|      price|         nbhood_full|\n+----------+-----------+--------------------+\n|      2595|225 dollars|  Manhattan, Midtown|\n|      3831| 89 dollars|Brooklyn, Clinton...|\n|      5099|200 dollars|Manhattan, Murray...|\n|      5178| 79 dollars|Manhattan, Hell's...|\n|      5238|150 dollars|Manhattan, Chinatown|\n|      5295|135 dollars|Manhattan, Upper ...|\n|      5441| 85 dollars|Manhattan, Hell's...|\n|      5803| 89 dollars|Brooklyn, South S...|\n|      6021| 85 dollars|Manhattan, Upper ...|\n|      6848|140 dollars|Brooklyn, William...|\n|      7097|215 dollars|Brooklyn, Fort Gr...|\n|      7322|140 dollars|  Manhattan, Chelsea|\n|      7726| 99 dollars|Brooklyn, Crown H...|\n|      8024|130 dollars|Brooklyn, Park Slope|\n|      8025| 80 dollars|Brooklyn, Park Slope|\n|      8110|110 dollars|Brooklyn, Park Slope|\n|      8490|120 dollars|Brooklyn, Bedford...|\n|      8505| 60 dollars|Brooklyn, Windsor...|\n|      9518| 44 dollars|   Manhattan, Inwood|\n|      9657|180 dollars|Manhattan, East V...|\n+----------+-----------+--------------------+\nonly showing top 20 rows\n\n+----------+--------------------+---------------+\n|listing_id|         description|      room_type|\n+----------+--------------------+---------------+\n|      2595|Skylit Midtown Ca...|Entire home/apt|\n|      3831|Cozy Entire Floor...|Entire home/apt|\n|      5099|Large Cozy 1 BR A...|Entire home/apt|\n|      5178|Large Furnished R...|   private room|\n|      5238|Cute & Cozy Lower...|Entire home/apt|\n|      5295|Beautiful 1br on ...|Entire home/apt|\n|      5441|Central Manhattan...|   Private room|\n|      5803|Lovely Room 1, Ga...|   Private room|\n|      6021|Wonderful Guest B...|   Private room|\n|      6848|Only 2 stops to M...|entire home/apt|\n|      7097|Perfect for Your ...|Entire home/apt|\n|      7322|     Chelsea Perfect|   Private room|\n|      7726|Hip Historic Brow...|Entire home/apt|\n|      8024|CBG CtyBGd HelpsH...|   PRIVATE ROOM|\n|      8025|CBG Helps Haiti R...|   PRIVATE ROOM|\n|      8110|CBG Helps Haiti R...|   Private room|\n|      8490|MAISON DES SIRENE...|Entire home/apt|\n|      8505|Sunny Bedroom Acr...|   Private room|\n|      9518|SPACIOUS, LOVELY ...|   PRIVATE ROOM|\n|      9657|Modern 1 BR / NYC...|entire home/apt|\n+----------+--------------------+---------------+\nonly showing top 20 rows\n\n"
     ]
    }
   ],
   "source": [
    "df1 = spark.read.option(\"delimiter\", \"\\t\").csv('dbfs:/FileStore/shared_uploads/david.rubiochavida@tajamar365.com/airbnb_last_review.tsv', header=True, inferSchema=True)\n",
    "\n",
    "df2 = spark.read.csv('dbfs:/FileStore/shared_uploads/david.rubiochavida@tajamar365.com/airbnb_price.csv', header=True, inferSchema=True)\n",
    "\n",
    "df3 = spark.read.option(\"header\", \"true\").csv('dbfs:/FileStore/shared_uploads/david.rubiochavida@tajamar365.com/airbnb_room_type.csv')\n",
    "\n",
    "df1.show()\n",
    "\n",
    "df2.show()\n",
    "\n",
    "df3.show()\n"
   ]
  },
  {
   "cell_type": "markdown",
   "metadata": {
    "application/vnd.databricks.v1+cell": {
     "cellMetadata": {},
     "inputWidgets": {},
     "nuid": "bab5e15d-251d-4092-9ec3-61f8a0d84f43",
     "showTitle": false,
     "tableResultSettingsMap": {},
     "title": ""
    }
   },
   "source": [
    "Como consultor que trabaja para una empresa inmobiliaria emergente, ha recopilado datos de anuncios de Airbnb de varias fuentes para investigar el mercado de alquileres a corto plazo en Nueva York. Analizará estos datos para brindar información sobre habitaciones privadas a la empresa inmobiliaria."
   ]
  },
  {
   "cell_type": "markdown",
   "metadata": {
    "application/vnd.databricks.v1+cell": {
     "cellMetadata": {},
     "inputWidgets": {},
     "nuid": "54c000f9-d639-4dab-b2e8-d74232d2cc41",
     "showTitle": false,
     "tableResultSettingsMap": {},
     "title": ""
    }
   },
   "source": [
    "- ¿Cuáles son las fechas de las primeras y las últimas reseñas? Almacene estos valores como dos variables independientes con los nombres que prefiera."
   ]
  },
  {
   "cell_type": "code",
   "execution_count": 0,
   "metadata": {
    "application/vnd.databricks.v1+cell": {
     "cellMetadata": {
      "byteLimit": 2048000,
      "rowLimit": 10000
     },
     "inputWidgets": {},
     "nuid": "6c72afa2-c70f-44a4-8e73-ba0016bafbed",
     "showTitle": false,
     "tableResultSettingsMap": {},
     "title": ""
    }
   },
   "outputs": [
    {
     "output_type": "stream",
     "name": "stdout",
     "output_type": "stream",
     "text": [
      "Fecha de la primera reseña: 2019-01-01\nFecha de la última reseña: 2019-07-09\n"
     ]
    }
   ],
   "source": [
    "from pyspark.sql.functions import to_date, col\n",
    "\n",
    "# Pasamos la fecha a un formato legible\n",
    "df1 = df1.withColumn(\"last_review_date\", to_date(col(\"last_review\"), \"MMMM dd yyyy\"))\n",
    "\n",
    "# Obtener la primera y última fecha de reseña\n",
    "first_review_date = df1.orderBy(\"last_review_date\").first()[\"last_review_date\"]\n",
    "last_review_date = df1.orderBy(col(\"last_review_date\").desc()).first()[\"last_review_date\"]\n",
    "\n",
    "# Imprimir las fechas\n",
    "print(\"Fecha de la primera reseña:\", first_review_date)\n",
    "print(\"Fecha de la última reseña:\", last_review_date)\n",
    "\n"
   ]
  },
  {
   "cell_type": "markdown",
   "metadata": {
    "application/vnd.databricks.v1+cell": {
     "cellMetadata": {},
     "inputWidgets": {},
     "nuid": "ebf69df8-1019-41ea-86ac-dd94c3242908",
     "showTitle": false,
     "tableResultSettingsMap": {},
     "title": ""
    }
   },
   "source": [
    "- ¿Cuántos de los anuncios son habitaciones privadas? Guárdelo en cualquier variable."
   ]
  },
  {
   "cell_type": "code",
   "execution_count": 0,
   "metadata": {
    "application/vnd.databricks.v1+cell": {
     "cellMetadata": {
      "byteLimit": 2048000,
      "rowLimit": 10000
     },
     "inputWidgets": {},
     "nuid": "55039c0b-5dd8-4a65-860d-41890d0661b7",
     "showTitle": false,
     "tableResultSettingsMap": {},
     "title": ""
    }
   },
   "outputs": [
    {
     "output_type": "stream",
     "name": "stdout",
     "output_type": "stream",
     "text": [
      "Out[17]: 392"
     ]
    }
   ],
   "source": [
    "# Filtramos las filas donde el tipo de habitacion es privada y contamos \n",
    "private_rooms_count = df3.filter(df3.room_type == 'private room').count()\n",
    "\n",
    "# Mostramos el resultado\n",
    "private_rooms_count\n"
   ]
  },
  {
   "cell_type": "markdown",
   "metadata": {
    "application/vnd.databricks.v1+cell": {
     "cellMetadata": {},
     "inputWidgets": {},
     "nuid": "a3e1b919-2c7e-40fb-8809-86440f77f14e",
     "showTitle": false,
     "tableResultSettingsMap": {},
     "title": ""
    }
   },
   "source": [
    "- ¿Cuál es el precio promedio de los anuncios? Redondee a los dos decimales más cercanos y guárdelo en una variable."
   ]
  },
  {
   "cell_type": "code",
   "execution_count": 0,
   "metadata": {
    "application/vnd.databricks.v1+cell": {
     "cellMetadata": {
      "byteLimit": 2048000,
      "rowLimit": 10000
     },
     "inputWidgets": {},
     "nuid": "13665476-74ae-4e8d-990a-613ccd62b0d1",
     "showTitle": false,
     "tableResultSettingsMap": {},
     "title": ""
    }
   },
   "outputs": [
    {
     "output_type": "stream",
     "name": "stdout",
     "output_type": "stream",
     "text": [
      "Out[21]: 141.78"
     ]
    }
   ],
   "source": [
    "from pyspark.sql.functions import col, regexp_replace\n",
    "\n",
    "# limpiamos el dato para eliminar la palabra dollar y que los registros se guarden como float\n",
    "df2_cleaned = df2.withColumn(\"precio_limpio\", regexp_replace(col(\"price\"), \" dollars\", \"\").cast(\"float\"))\n",
    "\n",
    "# Calcular el precio promedio y redondearlo a dos decimales\n",
    "average_price = df2_cleaned.agg({\"precio_limpio\": \"avg\"}).collect()[0][0]\n",
    "\n",
    "# Redondear a dos decimales\n",
    "average_price_rounded = round(average_price, 2)\n",
    "\n",
    "# Guardar el resultado en una variable\n",
    "average_price_rounded\n"
   ]
  },
  {
   "cell_type": "markdown",
   "metadata": {
    "application/vnd.databricks.v1+cell": {
     "cellMetadata": {},
     "inputWidgets": {},
     "nuid": "3db66806-50c8-46b2-ab8b-fb66b3602f7d",
     "showTitle": false,
     "tableResultSettingsMap": {},
     "title": ""
    }
   },
   "source": [
    "\n",
    "- Combine las nuevas variables en un DataFrame llamado review_dates con cuatro columnas en el siguiente orden: first_reviewed, last_reviewed, nb_private_rooms y avg_price. El DataFrame solo debe contener una fila de valores."
   ]
  },
  {
   "cell_type": "code",
   "execution_count": 0,
   "metadata": {
    "application/vnd.databricks.v1+cell": {
     "cellMetadata": {
      "byteLimit": 2048000,
      "rowLimit": 10000
     },
     "inputWidgets": {},
     "nuid": "76803306-258c-4138-9087-7f83c8b4d027",
     "showTitle": false,
     "tableResultSettingsMap": {},
     "title": ""
    }
   },
   "outputs": [
    {
     "output_type": "stream",
     "name": "stdout",
     "output_type": "stream",
     "text": [
      "+-----------------+----------------+-------------------+---------------------+\n|first_review_date|last_review_date|private_rooms_count|average_price_rounded|\n+-----------------+----------------+-------------------+---------------------+\n|       2019-01-01|      2019-07-09|                392|               141.78|\n+-----------------+----------------+-------------------+---------------------+\n\n"
     ]
    }
   ],
   "source": [
    "from pyspark.sql import Row\n",
    "\n",
    "# crear una fila con los datos que queremos en cada sitio\n",
    "review_dates_row = Row(first_review_date=first_review_date, \n",
    "                       last_review_date=last_review_date, \n",
    "                       private_rooms_count=private_rooms_count, \n",
    "                       average_price_rounded=average_price_rounded)\n",
    "\n",
    "# Crear el DataFrame con una sola fila usando la Row\n",
    "review_dates = spark.createDataFrame([review_dates_row])\n",
    "\n",
    "# mostramos la respuesta\n",
    "review_dates.show()\n"
   ]
  }
 ],
 "metadata": {
  "application/vnd.databricks.v1+notebook": {
   "dashboards": [],
   "environmentMetadata": null,
   "language": "python",
   "notebookMetadata": {
    "pythonIndentUnit": 4
   },
   "notebookName": "Caso_3",
   "widgets": {}
  }
 },
 "nbformat": 4,
 "nbformat_minor": 0
}
